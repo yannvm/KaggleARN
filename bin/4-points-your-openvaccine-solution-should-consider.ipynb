{
 "cells": [
  {
   "cell_type": "markdown",
   "metadata": {
    "papermill": {
     "duration": 0.01089,
     "end_time": "2020-09-25T07:10:38.234535",
     "exception": false,
     "start_time": "2020-09-25T07:10:38.223645",
     "status": "completed"
    },
    "tags": []
   },
   "source": [
    "This is a quick list of information spread through the Notebooks and Discussion sections. Hopefully, this is old information to you and your solution already takes all of the following into consideration but if not I hope it can help you improve your model."
   ]
  },
  {
   "cell_type": "code",
   "execution_count": 1,
   "metadata": {
    "_cell_guid": "b1076dfc-b9ad-4769-8c92-a6c4dae69d19",
    "_kg_hide-input": true,
    "_uuid": "8f2839f25d086af736a60e9eeb907d3b93b6e0e5",
    "execution": {
     "iopub.execute_input": "2020-09-25T07:10:38.262351Z",
     "iopub.status.busy": "2020-09-25T07:10:38.261491Z",
     "iopub.status.idle": "2020-09-25T07:10:40.490177Z",
     "shell.execute_reply": "2020-09-25T07:10:40.488508Z"
    },
    "papermill": {
     "duration": 2.246035,
     "end_time": "2020-09-25T07:10:40.490373",
     "exception": false,
     "start_time": "2020-09-25T07:10:38.244338",
     "status": "completed"
    },
    "tags": []
   },
   "outputs": [],
   "source": [
    "import numpy as np # linear algebra\n",
    "import pandas as pd # data processing, CSV file I/O (e.g. pd.read_csv)\n",
    "\n",
    "import matplotlib.pyplot as plt\n",
    "import seaborn as sns\n",
    "\n",
    "import os\n",
    "PATH = \"../input/stanford-covid-vaccine/\"\n",
    "\n",
    "test = pd.read_json(os.path.join(PATH, 'test.json'), lines=True)\n",
    "sample_submission = pd.read_csv(os.path.join(PATH, 'sample_submission.csv'))\n"
   ]
  },
  {
   "cell_type": "markdown",
   "metadata": {
    "papermill": {
     "duration": 0.009275,
     "end_time": "2020-09-25T07:10:40.509975",
     "exception": false,
     "start_time": "2020-09-25T07:10:40.500700",
     "status": "completed"
    },
    "tags": []
   },
   "source": [
    "# 1. Set SN_filter == 1\n",
    "\n",
    "Most public notebooks I have read already do this but in case you missed it you can find more information in [this discussion topic](https://www.kaggle.com/c/stanford-covid-vaccine/discussion/183992). \n",
    "Your preprocessing of the training data should incorporate something like this:\n"
   ]
  },
  {
   "cell_type": "code",
   "execution_count": 2,
   "metadata": {
    "execution": {
     "iopub.execute_input": "2020-09-25T07:10:40.537248Z",
     "iopub.status.busy": "2020-09-25T07:10:40.536396Z",
     "iopub.status.idle": "2020-09-25T07:10:41.022443Z",
     "shell.execute_reply": "2020-09-25T07:10:41.021644Z"
    },
    "papermill": {
     "duration": 0.502355,
     "end_time": "2020-09-25T07:10:41.022598",
     "exception": false,
     "start_time": "2020-09-25T07:10:40.520243",
     "status": "completed"
    },
    "tags": []
   },
   "outputs": [
    {
     "name": "stdout",
     "output_type": "stream",
     "text": [
      "Train set length before filtering: 2400\n",
      "Train set length after filtering: 1589\n"
     ]
    }
   ],
   "source": [
    "train = pd.read_json(os.path.join(PATH, 'train.json'), lines=True)\n",
    "print(f\"Train set length before filtering: {len(train)}\")\n",
    "\n",
    "# https://www.kaggle.com/c/stanford-covid-vaccine/discussion/183992\n",
    "train = train[train.SN_filter == 1]\n",
    "print(f\"Train set length after filtering: {len(train)}\")"
   ]
  },
  {
   "cell_type": "markdown",
   "metadata": {
    "papermill": {
     "duration": 0.009702,
     "end_time": "2020-09-25T07:10:41.043590",
     "exception": false,
     "start_time": "2020-09-25T07:10:41.033888",
     "status": "completed"
    },
    "tags": []
   },
   "source": [
    "# 2. Not All Target Variables Are Scored\n",
    "\n",
    "This should hopefully be also no surprise if you have read the [evaluation section](https://www.kaggle.com/c/stanford-covid-vaccine/overview/evaluation) carefully. \n",
    "\n",
    "> While the submission format requires all 5 to be predicted, only the following are scored: reactivity, deg_Mg_pH10, and deg_Mg_50C.\n",
    "\n",
    "and \n",
    "\n",
    "> Positions greater than the seq_scored value of a sample are not scored, but still need a value in the solution file.\n",
    "\n",
    "That means that you can focus on improving `reactivity`, `deg_Mg_pH10,` and `deg_Mg_50C` for the ranges where `seqpos` < `seq_scored` and ignore the other data points.\n",
    "\n"
   ]
  },
  {
   "cell_type": "code",
   "execution_count": 3,
   "metadata": {
    "_cell_guid": "79c7e3d0-c299-4dcb-8224-4455121ee9b0",
    "_kg_hide-input": true,
    "_uuid": "d629ff2d2480ee46fbb7e2d37f6b5fab8052498a",
    "execution": {
     "iopub.execute_input": "2020-09-25T07:10:41.078567Z",
     "iopub.status.busy": "2020-09-25T07:10:41.073212Z",
     "iopub.status.idle": "2020-09-25T07:11:56.375604Z",
     "shell.execute_reply": "2020-09-25T07:11:56.376223Z"
    },
    "papermill": {
     "duration": 75.322516,
     "end_time": "2020-09-25T07:11:56.376397",
     "exception": false,
     "start_time": "2020-09-25T07:10:41.053881",
     "status": "completed"
    },
    "tags": []
   },
   "outputs": [
    {
     "name": "stdout",
     "output_type": "stream",
     "text": [
      "Length of sample submission (457953) == Length of submission file (457953)\n"
     ]
    },
    {
     "data": {
      "text/html": [
       "<div>\n",
       "<style scoped>\n",
       "    .dataframe tbody tr th:only-of-type {\n",
       "        vertical-align: middle;\n",
       "    }\n",
       "\n",
       "    .dataframe tbody tr th {\n",
       "        vertical-align: top;\n",
       "    }\n",
       "\n",
       "    .dataframe thead th {\n",
       "        text-align: right;\n",
       "    }\n",
       "</style>\n",
       "<table border=\"1\" class=\"dataframe\">\n",
       "  <thead>\n",
       "    <tr style=\"text-align: right;\">\n",
       "      <th></th>\n",
       "      <th>id_seqpos</th>\n",
       "      <th>reactivity</th>\n",
       "      <th>deg_Mg_pH10</th>\n",
       "      <th>deg_pH10</th>\n",
       "      <th>deg_Mg_50C</th>\n",
       "      <th>deg_50C</th>\n",
       "    </tr>\n",
       "  </thead>\n",
       "  <tbody>\n",
       "    <tr>\n",
       "      <th>0</th>\n",
       "      <td>id_00073f8be_0</td>\n",
       "      <td>0.5</td>\n",
       "      <td>0.5</td>\n",
       "      <td>0.0</td>\n",
       "      <td>0.5</td>\n",
       "      <td>0.0</td>\n",
       "    </tr>\n",
       "    <tr>\n",
       "      <th>1</th>\n",
       "      <td>id_00073f8be_1</td>\n",
       "      <td>0.5</td>\n",
       "      <td>0.5</td>\n",
       "      <td>0.0</td>\n",
       "      <td>0.5</td>\n",
       "      <td>0.0</td>\n",
       "    </tr>\n",
       "    <tr>\n",
       "      <th>2</th>\n",
       "      <td>id_00073f8be_2</td>\n",
       "      <td>0.5</td>\n",
       "      <td>0.5</td>\n",
       "      <td>0.0</td>\n",
       "      <td>0.5</td>\n",
       "      <td>0.0</td>\n",
       "    </tr>\n",
       "    <tr>\n",
       "      <th>3</th>\n",
       "      <td>id_00073f8be_3</td>\n",
       "      <td>0.5</td>\n",
       "      <td>0.5</td>\n",
       "      <td>0.0</td>\n",
       "      <td>0.5</td>\n",
       "      <td>0.0</td>\n",
       "    </tr>\n",
       "    <tr>\n",
       "      <th>4</th>\n",
       "      <td>id_00073f8be_4</td>\n",
       "      <td>0.5</td>\n",
       "      <td>0.5</td>\n",
       "      <td>0.0</td>\n",
       "      <td>0.5</td>\n",
       "      <td>0.0</td>\n",
       "    </tr>\n",
       "  </tbody>\n",
       "</table>\n",
       "</div>"
      ],
      "text/plain": [
       "        id_seqpos  reactivity  deg_Mg_pH10  deg_pH10  deg_Mg_50C  deg_50C\n",
       "0  id_00073f8be_0         0.5          0.5       0.0         0.5      0.0\n",
       "1  id_00073f8be_1         0.5          0.5       0.0         0.5      0.0\n",
       "2  id_00073f8be_2         0.5          0.5       0.0         0.5      0.0\n",
       "3  id_00073f8be_3         0.5          0.5       0.0         0.5      0.0\n",
       "4  id_00073f8be_4         0.5          0.5       0.0         0.5      0.0"
      ]
     },
     "execution_count": 3,
     "metadata": {},
     "output_type": "execute_result"
    }
   ],
   "source": [
    "submission = pd.DataFrame(columns=[ 'id_seqpos', 'reactivity', 'deg_Mg_pH10', 'deg_pH10', 'deg_Mg_50C', 'deg_50C'])\n",
    "\n",
    "for i in range(len(test)):\n",
    "    df = test.loc[i]\n",
    "\n",
    "    dummy_values = np.zeros(df.seq_length)\n",
    "    dummy_values[:df.seq_scored]  = np.full(df.seq_scored, 0.5) # Dummy value\n",
    "\n",
    "    new_df = pd.DataFrame(data={'id': df.id, 'pos': list(range(df.seq_length)), \n",
    "                                'reactivity': dummy_values, # Dummy value\n",
    "                                'deg_Mg_pH10': dummy_values, # Dummy value\n",
    "                                'deg_pH10': np.zeros(df.seq_length),# not scored\n",
    "                                'deg_Mg_50C': dummy_values, # Dummy value\n",
    "                                'deg_50C': np.zeros(df.seq_length), # not scored\n",
    "                               })\n",
    "\n",
    "    new_df['id_seqpos'] = new_df.apply(lambda x: f\"{x['id']}_{x['pos']}\", axis=1)\n",
    "    new_df = new_df.drop(['id', 'pos'], axis=1)\n",
    "    new_df = new_df[[ 'id_seqpos', 'reactivity', 'deg_Mg_pH10', 'deg_pH10', 'deg_Mg_50C', 'deg_50C']] \n",
    "    submission = submission.append(new_df)\n",
    "\n",
    "submission = submission.reset_index(drop=True)\n",
    "print(f\"Length of sample submission ({len(sample_submission)}) == Length of submission file ({len(submission)})\")\n",
    "submission.to_csv('submission.csv', index = False)\n",
    "submission.head()"
   ]
  },
  {
   "cell_type": "code",
   "execution_count": 4,
   "metadata": {
    "_kg_hide-input": true,
    "execution": {
     "iopub.execute_input": "2020-09-25T07:11:56.413499Z",
     "iopub.status.busy": "2020-09-25T07:11:56.412449Z",
     "iopub.status.idle": "2020-09-25T07:11:56.417565Z",
     "shell.execute_reply": "2020-09-25T07:11:56.416960Z"
    },
    "papermill": {
     "duration": 0.030189,
     "end_time": "2020-09-25T07:11:56.417701",
     "exception": false,
     "start_time": "2020-09-25T07:11:56.387512",
     "status": "completed"
    },
    "tags": []
   },
   "outputs": [
    {
     "data": {
      "text/html": [
       "<div>\n",
       "<style scoped>\n",
       "    .dataframe tbody tr th:only-of-type {\n",
       "        vertical-align: middle;\n",
       "    }\n",
       "\n",
       "    .dataframe tbody tr th {\n",
       "        vertical-align: top;\n",
       "    }\n",
       "\n",
       "    .dataframe thead th {\n",
       "        text-align: right;\n",
       "    }\n",
       "</style>\n",
       "<table border=\"1\" class=\"dataframe\">\n",
       "  <thead>\n",
       "    <tr style=\"text-align: right;\">\n",
       "      <th></th>\n",
       "      <th>id_seqpos</th>\n",
       "      <th>reactivity</th>\n",
       "      <th>deg_Mg_pH10</th>\n",
       "      <th>deg_pH10</th>\n",
       "      <th>deg_Mg_50C</th>\n",
       "      <th>deg_50C</th>\n",
       "    </tr>\n",
       "  </thead>\n",
       "  <tbody>\n",
       "    <tr>\n",
       "      <th>65</th>\n",
       "      <td>id_00073f8be_65</td>\n",
       "      <td>0.5</td>\n",
       "      <td>0.5</td>\n",
       "      <td>0.0</td>\n",
       "      <td>0.5</td>\n",
       "      <td>0.0</td>\n",
       "    </tr>\n",
       "    <tr>\n",
       "      <th>66</th>\n",
       "      <td>id_00073f8be_66</td>\n",
       "      <td>0.5</td>\n",
       "      <td>0.5</td>\n",
       "      <td>0.0</td>\n",
       "      <td>0.5</td>\n",
       "      <td>0.0</td>\n",
       "    </tr>\n",
       "    <tr>\n",
       "      <th>67</th>\n",
       "      <td>id_00073f8be_67</td>\n",
       "      <td>0.5</td>\n",
       "      <td>0.5</td>\n",
       "      <td>0.0</td>\n",
       "      <td>0.5</td>\n",
       "      <td>0.0</td>\n",
       "    </tr>\n",
       "    <tr>\n",
       "      <th>68</th>\n",
       "      <td>id_00073f8be_68</td>\n",
       "      <td>0.0</td>\n",
       "      <td>0.0</td>\n",
       "      <td>0.0</td>\n",
       "      <td>0.0</td>\n",
       "      <td>0.0</td>\n",
       "    </tr>\n",
       "    <tr>\n",
       "      <th>69</th>\n",
       "      <td>id_00073f8be_69</td>\n",
       "      <td>0.0</td>\n",
       "      <td>0.0</td>\n",
       "      <td>0.0</td>\n",
       "      <td>0.0</td>\n",
       "      <td>0.0</td>\n",
       "    </tr>\n",
       "  </tbody>\n",
       "</table>\n",
       "</div>"
      ],
      "text/plain": [
       "          id_seqpos  reactivity  deg_Mg_pH10  deg_pH10  deg_Mg_50C  deg_50C\n",
       "65  id_00073f8be_65         0.5          0.5       0.0         0.5      0.0\n",
       "66  id_00073f8be_66         0.5          0.5       0.0         0.5      0.0\n",
       "67  id_00073f8be_67         0.5          0.5       0.0         0.5      0.0\n",
       "68  id_00073f8be_68         0.0          0.0       0.0         0.0      0.0\n",
       "69  id_00073f8be_69         0.0          0.0       0.0         0.0      0.0"
      ]
     },
     "execution_count": 4,
     "metadata": {},
     "output_type": "execute_result"
    }
   ],
   "source": [
    "submission[65:70]"
   ]
  },
  {
   "cell_type": "markdown",
   "metadata": {
    "papermill": {
     "duration": 0.013027,
     "end_time": "2020-09-25T07:11:56.442496",
     "exception": false,
     "start_time": "2020-09-25T07:11:56.429469",
     "status": "completed"
    },
    "tags": []
   },
   "source": [
    "# 3. Count-Based Features\n",
    "I have seen some notebooks using count-based features and wanted to make one note that some of these features are highly correlated because they all indicate the same information about the \"pairedness\".\n",
    "\n",
    "* Structure code `.` indicates that a molecule is not paired\n",
    "* Structure codes `(` and `)` indicate that a molecule is paired\n",
    "* Predicted Loop Type `S` indicates a stem which is made of pairs.\n",
    "\n",
    "Since these features contain the same information, I recommend removing redundant features."
   ]
  },
  {
   "cell_type": "code",
   "execution_count": 5,
   "metadata": {
    "_kg_hide-input": true,
    "execution": {
     "iopub.execute_input": "2020-09-25T07:11:56.492459Z",
     "iopub.status.busy": "2020-09-25T07:11:56.491689Z",
     "iopub.status.idle": "2020-09-25T07:11:59.015645Z",
     "shell.execute_reply": "2020-09-25T07:11:59.016254Z"
    },
    "papermill": {
     "duration": 2.562094,
     "end_time": "2020-09-25T07:11:59.016411",
     "exception": false,
     "start_time": "2020-09-25T07:11:56.454317",
     "status": "completed"
    },
    "tags": []
   },
   "outputs": [
    {
     "data": {
      "image/png": "[encoded data removed]",
      "text/plain": [
       "<Figure size 1440x576 with 4 Axes>"
      ]
     },
     "metadata": {
      "needs_background": "light"
     },
     "output_type": "display_data"
    }
   ],
   "source": [
    "train = train[['id', 'sequence', 'structure', 'predicted_loop_type',\n",
    "       'signal_to_noise', 'seq_length', 'seq_scored',\n",
    "       'reactivity_error', 'deg_error_Mg_pH10', 'deg_error_pH10',\n",
    "       'deg_error_Mg_50C', 'deg_error_50C', 'reactivity', 'deg_Mg_pH10',\n",
    "       'deg_pH10', 'deg_Mg_50C', 'deg_50C']].reset_index(drop=True)\n",
    "\n",
    "train['train_data'] = 1\n",
    "test = test[['id', 'sequence', 'structure', 'predicted_loop_type', 'seq_length', 'seq_scored']]\n",
    "test['train_data'] = 0\n",
    "all_data = train.append(test).reset_index(drop=True)\n",
    "\n",
    "for c in ['.','(',')']:\n",
    "    all_data[f\"cnt_structure_{c}\"] = all_data.apply(lambda x: ((list(x['structure']).count(str(c)))/(x['seq_length'])), axis = 1)\n",
    "\n",
    "for c in ['S','M','I','B','H','E','X']:\n",
    "    all_data[f\"cnt_loop_{c}\"] = all_data.apply(lambda x: ((list(x['predicted_loop_type']).count(str(c)))/(x['seq_length'])), axis = 1)\n",
    "\n",
    "    \n",
    "fig, ax = plt.subplots(nrows=1, ncols=2, figsize=(20, 8))\n",
    "    \n",
    "correlation_matrix = all_data[['cnt_structure_.', 'cnt_structure_(', 'cnt_structure_)', 'cnt_loop_S', 'cnt_loop_M', 'cnt_loop_I', 'cnt_loop_B', 'cnt_loop_H', 'cnt_loop_E', 'cnt_loop_X']].corr()\n",
    "matrix = np.triu(correlation_matrix)\n",
    "sns.heatmap(correlation_matrix, vmin=-1, vmax=1, annot = True, cmap='coolwarm', mask=matrix, ax=ax[0])\n",
    "\n",
    "correlation_matrix = all_data[['cnt_structure_.', 'cnt_structure_(', 'cnt_structure_)', 'cnt_loop_S']].corr()\n",
    "matrix = np.triu(correlation_matrix)\n",
    "sns.heatmap(correlation_matrix, vmin=-1, vmax=1, annot = True, cmap='coolwarm', mask=matrix, ax=ax[1])\n",
    "\n",
    "plt.show()"
   ]
  },
  {
   "cell_type": "markdown",
   "metadata": {
    "papermill": {
     "duration": 0.013266,
     "end_time": "2020-09-25T07:11:59.044018",
     "exception": false,
     "start_time": "2020-09-25T07:11:59.030752",
     "status": "completed"
    },
    "tags": []
   },
   "source": [
    "# 4. Sequence Length between Train and Test\n",
    "This should probably also not come as a surprise to you that the train and test set contain sequences with difference lengths.\n",
    "\n",
    "Therefore, definitely **check your features for deviations in distributions**.\n",
    "\n",
    "For example:\n",
    "* I have seen a few notebooks use the `seqpos` (or position in the sequence/molecule number) as a feature. This could be dangerous.\n",
    "* [@tito's notebook](https://www.kaggle.com/its7171/dangerous-features) also gives some good remarks."
   ]
  },
  {
   "cell_type": "code",
   "execution_count": 6,
   "metadata": {
    "_kg_hide-input": true,
    "execution": {
     "iopub.execute_input": "2020-09-25T07:11:59.085758Z",
     "iopub.status.busy": "2020-09-25T07:11:59.084631Z",
     "iopub.status.idle": "2020-09-25T07:11:59.294527Z",
     "shell.execute_reply": "2020-09-25T07:11:59.293839Z"
    },
    "papermill": {
     "duration": 0.236927,
     "end_time": "2020-09-25T07:11:59.294659",
     "exception": false,
     "start_time": "2020-09-25T07:11:59.057732",
     "status": "completed"
    },
    "tags": []
   },
   "outputs": [
    {
     "data": {
      "image/png": "[encoded data removed]",
      "text/plain": [
       "<Figure size 576x576 with 1 Axes>"
      ]
     },
     "metadata": {
      "needs_background": "light"
     },
     "output_type": "display_data"
    }
   ],
   "source": [
    "temp = all_data.groupby(['train_data', 'seq_length' ]).id.count().to_frame().reset_index()\n",
    "temp.columns = ['train_data', 'seq_length', 'counts']\n",
    "temp.train_data = temp.train_data.replace({0:'Test', 1:'Train'})\n",
    "temp = temp.pivot(index='train_data',columns='seq_length')\n",
    "temp.columns = ['seq_length_107', 'seq_length_130']\n",
    "\n",
    "fig, ax = plt.subplots(nrows=1, ncols=1, figsize=(8, 8))\n",
    "temp.plot(kind='bar', stacked=True, ax= ax,  fontsize=14)\n",
    "plt.xlabel('Dataset', fontsize=14)\n",
    "plt.ylabel('Counts', fontsize=14)\n",
    "plt.show()"
   ]
  }
 ],
 "metadata": {
  "kernelspec": {
   "display_name": "Python 3",
   "language": "python",
   "name": "python3"
  },
  "language_info": {
   "codemirror_mode": {
    "name": "ipython",
    "version": 3
   },
   "file_extension": ".py",
   "mimetype": "text/x-python",
   "name": "python",
   "nbconvert_exporter": "python",
   "pygments_lexer": "ipython3",
   "version": "3.8.3"
  },
  "papermill": {
   "duration": 86.423088,
   "end_time": "2020-09-25T07:11:59.417573",
   "environment_variables": {},
   "exception": null,
   "input_path": "__notebook__.ipynb",
   "output_path": "__notebook__.ipynb",
   "parameters": {},
   "start_time": "2020-09-25T07:10:32.994485",
   "version": "2.1.0"
  }
 },
 "nbformat": 4,
 "nbformat_minor": 4
}
