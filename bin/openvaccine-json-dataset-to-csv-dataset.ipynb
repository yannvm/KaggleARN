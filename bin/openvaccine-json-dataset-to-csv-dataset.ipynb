{
 "cells": [
  {
   "cell_type": "markdown",
   "metadata": {
    "papermill": {
     "duration": 0.023361,
     "end_time": "2020-09-17T11:01:09.267743",
     "exception": false,
     "start_time": "2020-09-17T11:01:09.244382",
     "status": "completed"
    },
    "tags": []
   },
   "source": [
    "# OpenVaccine: COVID-19 mRNA Vaccine Degradation Prediction JSON Dataset to CSV Dataset Conversion"
   ]
  },
  {
   "cell_type": "markdown",
   "metadata": {
    "papermill": {
     "duration": 0.021838,
     "end_time": "2020-09-17T11:01:09.312402",
     "exception": false,
     "start_time": "2020-09-17T11:01:09.290564",
     "status": "completed"
    },
    "tags": []
   },
   "source": [
    "## UPDATE: There was a bug in previous version, in train set all measurement values were flattened to the first 2400\\*68 entries followed by 2400\\*39 nan. This is updated to flatten correctly with 68 entries and 39 nan for each id."
   ]
  },
  {
   "cell_type": "markdown",
   "metadata": {
    "papermill": {
     "duration": 0.02347,
     "end_time": "2020-09-17T11:01:09.358102",
     "exception": false,
     "start_time": "2020-09-17T11:01:09.334632",
     "status": "completed"
    },
    "tags": []
   },
   "source": [
    "I think that for EDA, a flat file based representation would be good. Hence I am converting the json hierarchical dataset of the competition to CSV format popular among Kagglers.\n",
    "\n",
    "## References: My public notebooks for OpenVaccine\n",
    "\n",
    "* [Flatten JSON Data](https://www.kaggle.com/arunprathap/openvaccine-flatten-json-data)\n",
    "\n",
    "* [Feature Correlation, Importance](https://www.kaggle.com/arunprathap/openvaccine-feature-correlation-importance)"
   ]
  },
  {
   "cell_type": "code",
   "execution_count": 1,
   "metadata": {
    "execution": {
     "iopub.execute_input": "2020-09-17T11:01:09.410001Z",
     "iopub.status.busy": "2020-09-17T11:01:09.409223Z",
     "iopub.status.idle": "2020-09-17T11:01:09.413480Z",
     "shell.execute_reply": "2020-09-17T11:01:09.412745Z"
    },
    "papermill": {
     "duration": 0.032445,
     "end_time": "2020-09-17T11:01:09.413607",
     "exception": false,
     "start_time": "2020-09-17T11:01:09.381162",
     "status": "completed"
    },
    "tags": []
   },
   "outputs": [],
   "source": [
    "import warnings\n",
    "warnings.filterwarnings('ignore')"
   ]
  },
  {
   "cell_type": "code",
   "execution_count": 2,
   "metadata": {
    "_cell_guid": "b1076dfc-b9ad-4769-8c92-a6c4dae69d19",
    "_uuid": "8f2839f25d086af736a60e9eeb907d3b93b6e0e5",
    "execution": {
     "iopub.execute_input": "2020-09-17T11:01:09.465234Z",
     "iopub.status.busy": "2020-09-17T11:01:09.464352Z",
     "iopub.status.idle": "2020-09-17T11:01:09.466584Z",
     "shell.execute_reply": "2020-09-17T11:01:09.467206Z"
    },
    "papermill": {
     "duration": 0.031046,
     "end_time": "2020-09-17T11:01:09.467351",
     "exception": false,
     "start_time": "2020-09-17T11:01:09.436305",
     "status": "completed"
    },
    "tags": []
   },
   "outputs": [],
   "source": [
    "# This Python 3 environment comes with many helpful analytics libraries installed\n",
    "# It is defined by the kaggle/python Docker image: https://github.com/kaggle/docker-python\n",
    "# For example, here's several helpful packages to load\n",
    "\n",
    "import numpy as np # linear algebra\n",
    "import pandas as pd # data processing, CSV file I/O (e.g. pd.read_csv)\n",
    "\n",
    "import json\n",
    "from pandas.io.json import json_normalize\n",
    "\n",
    "# Input data files are available in the read-only \"../input/\" directory\n",
    "# For example, running this (by clicking run or pressing Shift+Enter) will list all files under the input directory\n",
    "\n",
    "import os\n",
    "#for dirname, _, filenames in os.walk('/kaggle/input'):\n",
    "#    for filename in filenames:\n",
    "#        print(os.path.join(dirname, filename))\n",
    "\n",
    "# You can write up to 5GB to the current directory (/kaggle/working/) that gets preserved as output when you create a version using \"Save & Run All\" \n",
    "# You can also write temporary files to /kaggle/temp/, but they won't be saved outside of the current session"
   ]
  },
  {
   "cell_type": "code",
   "execution_count": 3,
   "metadata": {
    "execution": {
     "iopub.execute_input": "2020-09-17T11:01:09.515824Z",
     "iopub.status.busy": "2020-09-17T11:01:09.515163Z",
     "iopub.status.idle": "2020-09-17T11:01:16.565228Z",
     "shell.execute_reply": "2020-09-17T11:01:16.564355Z"
    },
    "papermill": {
     "duration": 7.075483,
     "end_time": "2020-09-17T11:01:16.565369",
     "exception": false,
     "start_time": "2020-09-17T11:01:09.489886",
     "status": "completed"
    },
    "tags": []
   },
   "outputs": [],
   "source": [
    "import datetime\n",
    "\n",
    "import IPython\n",
    "import IPython.display\n",
    "import matplotlib as mpl\n",
    "import matplotlib.pyplot as plt\n",
    "import seaborn as sns\n",
    "import tensorflow as tf\n",
    "\n",
    "mpl.rcParams['figure.figsize'] = (8, 6)\n",
    "mpl.rcParams['axes.grid'] = False"
   ]
  },
  {
   "cell_type": "markdown",
   "metadata": {
    "papermill": {
     "duration": 0.022971,
     "end_time": "2020-09-17T11:01:16.611125",
     "exception": false,
     "start_time": "2020-09-17T11:01:16.588154",
     "status": "completed"
    },
    "tags": []
   },
   "source": [
    "## Read train and test json"
   ]
  },
  {
   "cell_type": "code",
   "execution_count": 4,
   "metadata": {
    "execution": {
     "iopub.execute_input": "2020-09-17T11:01:16.662605Z",
     "iopub.status.busy": "2020-09-17T11:01:16.661596Z",
     "iopub.status.idle": "2020-09-17T11:01:17.287002Z",
     "shell.execute_reply": "2020-09-17T11:01:17.286414Z"
    },
    "papermill": {
     "duration": 0.653314,
     "end_time": "2020-09-17T11:01:17.287135",
     "exception": false,
     "start_time": "2020-09-17T11:01:16.633821",
     "status": "completed"
    },
    "tags": []
   },
   "outputs": [
    {
     "data": {
      "text/plain": [
       "(2400, 19)"
      ]
     },
     "execution_count": 4,
     "metadata": {},
     "output_type": "execute_result"
    }
   ],
   "source": [
    "train_full = pd.read_json('../input/stanford-covid-vaccine/train.json', lines=True)\n",
    "train_full.shape"
   ]
  },
  {
   "cell_type": "code",
   "execution_count": 5,
   "metadata": {
    "execution": {
     "iopub.execute_input": "2020-09-17T11:01:17.340219Z",
     "iopub.status.busy": "2020-09-17T11:01:17.338348Z",
     "iopub.status.idle": "2020-09-17T11:01:17.392094Z",
     "shell.execute_reply": "2020-09-17T11:01:17.391491Z"
    },
    "papermill": {
     "duration": 0.081805,
     "end_time": "2020-09-17T11:01:17.392211",
     "exception": false,
     "start_time": "2020-09-17T11:01:17.310406",
     "status": "completed"
    },
    "tags": []
   },
   "outputs": [
    {
     "data": {
      "text/plain": [
       "(3634, 7)"
      ]
     },
     "execution_count": 5,
     "metadata": {},
     "output_type": "execute_result"
    }
   ],
   "source": [
    "test_full = pd.read_json('../input/stanford-covid-vaccine/test.json', lines=True)\n",
    "test_full.shape"
   ]
  },
  {
   "cell_type": "code",
   "execution_count": 6,
   "metadata": {
    "execution": {
     "iopub.execute_input": "2020-09-17T11:01:17.454705Z",
     "iopub.status.busy": "2020-09-17T11:01:17.454002Z",
     "iopub.status.idle": "2020-09-17T11:01:17.539178Z",
     "shell.execute_reply": "2020-09-17T11:01:17.538598Z"
    },
    "papermill": {
     "duration": 0.123513,
     "end_time": "2020-09-17T11:01:17.539302",
     "exception": false,
     "start_time": "2020-09-17T11:01:17.415789",
     "status": "completed"
    },
    "tags": []
   },
   "outputs": [
    {
     "data": {
      "text/html": [
       "<div>\n",
       "<style scoped>\n",
       "    .dataframe tbody tr th:only-of-type {\n",
       "        vertical-align: middle;\n",
       "    }\n",
       "\n",
       "    .dataframe tbody tr th {\n",
       "        vertical-align: top;\n",
       "    }\n",
       "\n",
       "    .dataframe thead th {\n",
       "        text-align: right;\n",
       "    }\n",
       "</style>\n",
       "<table border=\"1\" class=\"dataframe\">\n",
       "  <thead>\n",
       "    <tr style=\"text-align: right;\">\n",
       "      <th></th>\n",
       "      <th>0</th>\n",
       "      <th>1</th>\n",
       "      <th>2</th>\n",
       "      <th>3</th>\n",
       "      <th>4</th>\n",
       "    </tr>\n",
       "  </thead>\n",
       "  <tbody>\n",
       "    <tr>\n",
       "      <th>index</th>\n",
       "      <td>0</td>\n",
       "      <td>1</td>\n",
       "      <td>2</td>\n",
       "      <td>3</td>\n",
       "      <td>4</td>\n",
       "    </tr>\n",
       "    <tr>\n",
       "      <th>id</th>\n",
       "      <td>id_001f94081</td>\n",
       "      <td>id_0049f53ba</td>\n",
       "      <td>id_006f36f57</td>\n",
       "      <td>id_0082d463b</td>\n",
       "      <td>id_0087940f4</td>\n",
       "    </tr>\n",
       "    <tr>\n",
       "      <th>sequence</th>\n",
       "      <td>GGAAAAGCUCUAAUAACAGGAGACUAGGACUACGUAUUUCUAGGUA...</td>\n",
       "      <td>GGAAAAAGCGCGCGCGGUUAGCGCGCGCUUUUGCGCGCGCUGUACC...</td>\n",
       "      <td>GGAAAGUGCUCAGAUAAGCUAAGCUCGAAUAGCAAUCGAAUAGAAU...</td>\n",
       "      <td>GGAAAAGCGCGCGCGCGCGCGCGAAAAAGCGCGCGCGCGCGCGCGC...</td>\n",
       "      <td>GGAAAAUAUAUAAUAUAUUAUAUAAAUAUAUUAUAGAAGUAUAAUA...</td>\n",
       "    </tr>\n",
       "    <tr>\n",
       "      <th>structure</th>\n",
       "      <td>.....((((((.......)))).)).((.....((..((((((......</td>\n",
       "      <td>.....(((((((((((((((((((((((....)))))))))).)))...</td>\n",
       "      <td>.....((((.((.....((((.(((.....)))..((((......)...</td>\n",
       "      <td>......((((((((((((((((......))))))))))))))))((...</td>\n",
       "      <td>.....(((((((.((((((((((((.(((((((((....)))))))...</td>\n",
       "    </tr>\n",
       "    <tr>\n",
       "      <th>predicted_loop_type</th>\n",
       "      <td>EEEEESSSSSSHHHHHHHSSSSBSSXSSIIIIISSIISSSSSSHHH...</td>\n",
       "      <td>EEEEESSSSSSSSSSSSSSSSSSSSSSSHHHHSSSSSSSSSSBSSS...</td>\n",
       "      <td>EEEEESSSSISSIIIIISSSSMSSSHHHHHSSSMMSSSSHHHHHHS...</td>\n",
       "      <td>EEEEEESSSSSSSSSSSSSSSSHHHHHHSSSSSSSSSSSSSSSSSS...</td>\n",
       "      <td>EEEEESSSSSSSBSSSSSSSSSSSSBSSSSSSSSSHHHHSSSSSSS...</td>\n",
       "    </tr>\n",
       "    <tr>\n",
       "      <th>signal_to_noise</th>\n",
       "      <td>6.894</td>\n",
       "      <td>0.193</td>\n",
       "      <td>8.8</td>\n",
       "      <td>0.104</td>\n",
       "      <td>0.423</td>\n",
       "    </tr>\n",
       "    <tr>\n",
       "      <th>SN_filter</th>\n",
       "      <td>1</td>\n",
       "      <td>0</td>\n",
       "      <td>1</td>\n",
       "      <td>0</td>\n",
       "      <td>0</td>\n",
       "    </tr>\n",
       "    <tr>\n",
       "      <th>seq_length</th>\n",
       "      <td>107</td>\n",
       "      <td>107</td>\n",
       "      <td>107</td>\n",
       "      <td>107</td>\n",
       "      <td>107</td>\n",
       "    </tr>\n",
       "    <tr>\n",
       "      <th>seq_scored</th>\n",
       "      <td>68</td>\n",
       "      <td>68</td>\n",
       "      <td>68</td>\n",
       "      <td>68</td>\n",
       "      <td>68</td>\n",
       "    </tr>\n",
       "    <tr>\n",
       "      <th>reactivity_error</th>\n",
       "      <td>[0.1359, 0.20700000000000002, 0.1633, 0.1452, ...</td>\n",
       "      <td>[2.8272, 2.8272, 2.8272, 4.7343, 2.5676, 2.567...</td>\n",
       "      <td>[0.0931, 0.13290000000000002, 0.11280000000000...</td>\n",
       "      <td>[3.5229, 6.0748, 3.0374, 3.0374, 3.0374, 3.037...</td>\n",
       "      <td>[1.665, 2.1728, 2.0041, 1.2405, 0.620200000000...</td>\n",
       "    </tr>\n",
       "    <tr>\n",
       "      <th>deg_error_Mg_pH10</th>\n",
       "      <td>[0.26130000000000003, 0.38420000000000004, 0.1...</td>\n",
       "      <td>[73705.3985, 73705.3985, 73705.3985, 73705.398...</td>\n",
       "      <td>[0.1365, 0.2237, 0.1812, 0.1333, 0.1148, 0.160...</td>\n",
       "      <td>[73705.3985, 73705.3985, 73705.3985, 73705.398...</td>\n",
       "      <td>[4.2139, 3.9637000000000002, 3.2467, 2.4716, 1...</td>\n",
       "    </tr>\n",
       "    <tr>\n",
       "      <th>deg_error_pH10</th>\n",
       "      <td>[0.2631, 0.28600000000000003, 0.0964, 0.1574, ...</td>\n",
       "      <td>[10.1986, 9.2418, 5.0933, 5.0933, 5.0933, 5.09...</td>\n",
       "      <td>[0.17020000000000002, 0.178, 0.111, 0.091, 0.0...</td>\n",
       "      <td>[11.8007, 12.7566, 5.7733, 5.7733, 5.7733, 5.7...</td>\n",
       "      <td>[3.0942, 3.015, 2.1212, 2.0552, 0.881500000000...</td>\n",
       "    </tr>\n",
       "    <tr>\n",
       "      <th>deg_error_Mg_50C</th>\n",
       "      <td>[0.1501, 0.275, 0.0947, 0.18660000000000002, 0...</td>\n",
       "      <td>[16.6174, 13.868, 8.1968, 8.1968, 8.1968, 8.19...</td>\n",
       "      <td>[0.1033, 0.1464, 0.1126, 0.09620000000000001, ...</td>\n",
       "      <td>[121286.7181, 121286.7182, 121286.7181, 121286...</td>\n",
       "      <td>[2.6717, 2.4818, 1.9919, 2.5484999999999998, 1...</td>\n",
       "    </tr>\n",
       "    <tr>\n",
       "      <th>deg_error_50C</th>\n",
       "      <td>[0.2167, 0.34750000000000003, 0.188, 0.2124, 0...</td>\n",
       "      <td>[15.4857, 7.9596, 13.3957, 5.8777, 5.8777, 5.8...</td>\n",
       "      <td>[0.14980000000000002, 0.1761, 0.1517, 0.116700...</td>\n",
       "      <td>[15.3995, 8.1124, 7.7824, 7.7824, 7.7824, 7.78...</td>\n",
       "      <td>[1.3285, 3.6173, 1.3057, 1.3021, 1.1507, 1.150...</td>\n",
       "    </tr>\n",
       "    <tr>\n",
       "      <th>reactivity</th>\n",
       "      <td>[0.3297, 1.5693000000000001, 1.1227, 0.8686, 0...</td>\n",
       "      <td>[0.0, 0.0, 0.0, 2.2965, 0.0, 0.0, 0.0, 0.0, 0....</td>\n",
       "      <td>[0.44820000000000004, 1.4822, 1.1819, 0.743400...</td>\n",
       "      <td>[0.0, 2.2399, 0.0, 0.0, 0.0, 0.0, 0.0, 0.0, 0....</td>\n",
       "      <td>[0.8267, 2.6577, 2.8481, 0.40090000000000003, ...</td>\n",
       "    </tr>\n",
       "    <tr>\n",
       "      <th>deg_Mg_pH10</th>\n",
       "      <td>[0.7556, 2.983, 0.2526, 1.3789, 0.637600000000...</td>\n",
       "      <td>[0.0, 0.0, 0.0, 0.0, 0.0, 0.0, 0.0, 0.0, 0.0, ...</td>\n",
       "      <td>[0.2504, 1.4021, 0.9804, 0.49670000000000003, ...</td>\n",
       "      <td>[0.0, -0.5083, 0.0, 0.0, 0.0, 0.0, 0.0, 0.0, 0...</td>\n",
       "      <td>[2.1058, 3.138, 2.5437000000000003, 1.0932, 0....</td>\n",
       "    </tr>\n",
       "    <tr>\n",
       "      <th>deg_pH10</th>\n",
       "      <td>[2.3375, 3.5060000000000002, 0.3008, 1.0108, 0...</td>\n",
       "      <td>[4.947, 4.4523, 0.0, 0.0, 0.0, 0.0, 0.0, 0.0, ...</td>\n",
       "      <td>[2.243, 2.9361, 1.0553, 0.721, 0.6396000000000...</td>\n",
       "      <td>[3.4248, 6.8128, 0.0, 0.0, 0.0, 0.0, 0.0, 0.0,...</td>\n",
       "      <td>[4.7366, 4.6243, 1.2068, 1.1538, 0.0, 0.0, 0.7...</td>\n",
       "    </tr>\n",
       "    <tr>\n",
       "      <th>deg_Mg_50C</th>\n",
       "      <td>[0.35810000000000003, 2.9683, 0.2589, 1.4552, ...</td>\n",
       "      <td>[4.8511, 4.0426, 0.0, 0.0, 0.0, 0.0, 0.0, 0.0,...</td>\n",
       "      <td>[0.5163, 1.6823000000000001, 1.0426, 0.7902, 0...</td>\n",
       "      <td>[0.0, -0.8365, 0.0, 0.0, 0.0, 0.0, 0.0, 0.0, 0...</td>\n",
       "      <td>[2.2052, 1.7947000000000002, 0.7457, 3.1233, 0...</td>\n",
       "    </tr>\n",
       "    <tr>\n",
       "      <th>deg_50C</th>\n",
       "      <td>[0.6382, 3.4773, 0.9988, 1.3228, 0.78770000000...</td>\n",
       "      <td>[7.6692, 0.0, 10.9561, 0.0, 0.0, 0.0, 0.0, 0.0...</td>\n",
       "      <td>[0.9501000000000001, 1.7974999999999999, 1.499...</td>\n",
       "      <td>[7.6692, -1.3223, 0.0, 0.0, 0.0, 0.0, 0.0, 0.0...</td>\n",
       "      <td>[0.0, 5.1198, -0.3551, -0.3518, 0.0, 0.0, 0.0,...</td>\n",
       "    </tr>\n",
       "  </tbody>\n",
       "</table>\n",
       "</div>"
      ],
      "text/plain": [
       "                                                                     0  \\\n",
       "index                                                                0   \n",
       "id                                                        id_001f94081   \n",
       "sequence             GGAAAAGCUCUAAUAACAGGAGACUAGGACUACGUAUUUCUAGGUA...   \n",
       "structure            .....((((((.......)))).)).((.....((..((((((......   \n",
       "predicted_loop_type  EEEEESSSSSSHHHHHHHSSSSBSSXSSIIIIISSIISSSSSSHHH...   \n",
       "signal_to_noise                                                  6.894   \n",
       "SN_filter                                                            1   \n",
       "seq_length                                                         107   \n",
       "seq_scored                                                          68   \n",
       "reactivity_error     [0.1359, 0.20700000000000002, 0.1633, 0.1452, ...   \n",
       "deg_error_Mg_pH10    [0.26130000000000003, 0.38420000000000004, 0.1...   \n",
       "deg_error_pH10       [0.2631, 0.28600000000000003, 0.0964, 0.1574, ...   \n",
       "deg_error_Mg_50C     [0.1501, 0.275, 0.0947, 0.18660000000000002, 0...   \n",
       "deg_error_50C        [0.2167, 0.34750000000000003, 0.188, 0.2124, 0...   \n",
       "reactivity           [0.3297, 1.5693000000000001, 1.1227, 0.8686, 0...   \n",
       "deg_Mg_pH10          [0.7556, 2.983, 0.2526, 1.3789, 0.637600000000...   \n",
       "deg_pH10             [2.3375, 3.5060000000000002, 0.3008, 1.0108, 0...   \n",
       "deg_Mg_50C           [0.35810000000000003, 2.9683, 0.2589, 1.4552, ...   \n",
       "deg_50C              [0.6382, 3.4773, 0.9988, 1.3228, 0.78770000000...   \n",
       "\n",
       "                                                                     1  \\\n",
       "index                                                                1   \n",
       "id                                                        id_0049f53ba   \n",
       "sequence             GGAAAAAGCGCGCGCGGUUAGCGCGCGCUUUUGCGCGCGCUGUACC...   \n",
       "structure            .....(((((((((((((((((((((((....)))))))))).)))...   \n",
       "predicted_loop_type  EEEEESSSSSSSSSSSSSSSSSSSSSSSHHHHSSSSSSSSSSBSSS...   \n",
       "signal_to_noise                                                  0.193   \n",
       "SN_filter                                                            0   \n",
       "seq_length                                                         107   \n",
       "seq_scored                                                          68   \n",
       "reactivity_error     [2.8272, 2.8272, 2.8272, 4.7343, 2.5676, 2.567...   \n",
       "deg_error_Mg_pH10    [73705.3985, 73705.3985, 73705.3985, 73705.398...   \n",
       "deg_error_pH10       [10.1986, 9.2418, 5.0933, 5.0933, 5.0933, 5.09...   \n",
       "deg_error_Mg_50C     [16.6174, 13.868, 8.1968, 8.1968, 8.1968, 8.19...   \n",
       "deg_error_50C        [15.4857, 7.9596, 13.3957, 5.8777, 5.8777, 5.8...   \n",
       "reactivity           [0.0, 0.0, 0.0, 2.2965, 0.0, 0.0, 0.0, 0.0, 0....   \n",
       "deg_Mg_pH10          [0.0, 0.0, 0.0, 0.0, 0.0, 0.0, 0.0, 0.0, 0.0, ...   \n",
       "deg_pH10             [4.947, 4.4523, 0.0, 0.0, 0.0, 0.0, 0.0, 0.0, ...   \n",
       "deg_Mg_50C           [4.8511, 4.0426, 0.0, 0.0, 0.0, 0.0, 0.0, 0.0,...   \n",
       "deg_50C              [7.6692, 0.0, 10.9561, 0.0, 0.0, 0.0, 0.0, 0.0...   \n",
       "\n",
       "                                                                     2  \\\n",
       "index                                                                2   \n",
       "id                                                        id_006f36f57   \n",
       "sequence             GGAAAGUGCUCAGAUAAGCUAAGCUCGAAUAGCAAUCGAAUAGAAU...   \n",
       "structure            .....((((.((.....((((.(((.....)))..((((......)...   \n",
       "predicted_loop_type  EEEEESSSSISSIIIIISSSSMSSSHHHHHSSSMMSSSSHHHHHHS...   \n",
       "signal_to_noise                                                    8.8   \n",
       "SN_filter                                                            1   \n",
       "seq_length                                                         107   \n",
       "seq_scored                                                          68   \n",
       "reactivity_error     [0.0931, 0.13290000000000002, 0.11280000000000...   \n",
       "deg_error_Mg_pH10    [0.1365, 0.2237, 0.1812, 0.1333, 0.1148, 0.160...   \n",
       "deg_error_pH10       [0.17020000000000002, 0.178, 0.111, 0.091, 0.0...   \n",
       "deg_error_Mg_50C     [0.1033, 0.1464, 0.1126, 0.09620000000000001, ...   \n",
       "deg_error_50C        [0.14980000000000002, 0.1761, 0.1517, 0.116700...   \n",
       "reactivity           [0.44820000000000004, 1.4822, 1.1819, 0.743400...   \n",
       "deg_Mg_pH10          [0.2504, 1.4021, 0.9804, 0.49670000000000003, ...   \n",
       "deg_pH10             [2.243, 2.9361, 1.0553, 0.721, 0.6396000000000...   \n",
       "deg_Mg_50C           [0.5163, 1.6823000000000001, 1.0426, 0.7902, 0...   \n",
       "deg_50C              [0.9501000000000001, 1.7974999999999999, 1.499...   \n",
       "\n",
       "                                                                     3  \\\n",
       "index                                                                3   \n",
       "id                                                        id_0082d463b   \n",
       "sequence             GGAAAAGCGCGCGCGCGCGCGCGAAAAAGCGCGCGCGCGCGCGCGC...   \n",
       "structure            ......((((((((((((((((......))))))))))))))))((...   \n",
       "predicted_loop_type  EEEEEESSSSSSSSSSSSSSSSHHHHHHSSSSSSSSSSSSSSSSSS...   \n",
       "signal_to_noise                                                  0.104   \n",
       "SN_filter                                                            0   \n",
       "seq_length                                                         107   \n",
       "seq_scored                                                          68   \n",
       "reactivity_error     [3.5229, 6.0748, 3.0374, 3.0374, 3.0374, 3.037...   \n",
       "deg_error_Mg_pH10    [73705.3985, 73705.3985, 73705.3985, 73705.398...   \n",
       "deg_error_pH10       [11.8007, 12.7566, 5.7733, 5.7733, 5.7733, 5.7...   \n",
       "deg_error_Mg_50C     [121286.7181, 121286.7182, 121286.7181, 121286...   \n",
       "deg_error_50C        [15.3995, 8.1124, 7.7824, 7.7824, 7.7824, 7.78...   \n",
       "reactivity           [0.0, 2.2399, 0.0, 0.0, 0.0, 0.0, 0.0, 0.0, 0....   \n",
       "deg_Mg_pH10          [0.0, -0.5083, 0.0, 0.0, 0.0, 0.0, 0.0, 0.0, 0...   \n",
       "deg_pH10             [3.4248, 6.8128, 0.0, 0.0, 0.0, 0.0, 0.0, 0.0,...   \n",
       "deg_Mg_50C           [0.0, -0.8365, 0.0, 0.0, 0.0, 0.0, 0.0, 0.0, 0...   \n",
       "deg_50C              [7.6692, -1.3223, 0.0, 0.0, 0.0, 0.0, 0.0, 0.0...   \n",
       "\n",
       "                                                                     4  \n",
       "index                                                                4  \n",
       "id                                                        id_0087940f4  \n",
       "sequence             GGAAAAUAUAUAAUAUAUUAUAUAAAUAUAUUAUAGAAGUAUAAUA...  \n",
       "structure            .....(((((((.((((((((((((.(((((((((....)))))))...  \n",
       "predicted_loop_type  EEEEESSSSSSSBSSSSSSSSSSSSBSSSSSSSSSHHHHSSSSSSS...  \n",
       "signal_to_noise                                                  0.423  \n",
       "SN_filter                                                            0  \n",
       "seq_length                                                         107  \n",
       "seq_scored                                                          68  \n",
       "reactivity_error     [1.665, 2.1728, 2.0041, 1.2405, 0.620200000000...  \n",
       "deg_error_Mg_pH10    [4.2139, 3.9637000000000002, 3.2467, 2.4716, 1...  \n",
       "deg_error_pH10       [3.0942, 3.015, 2.1212, 2.0552, 0.881500000000...  \n",
       "deg_error_Mg_50C     [2.6717, 2.4818, 1.9919, 2.5484999999999998, 1...  \n",
       "deg_error_50C        [1.3285, 3.6173, 1.3057, 1.3021, 1.1507, 1.150...  \n",
       "reactivity           [0.8267, 2.6577, 2.8481, 0.40090000000000003, ...  \n",
       "deg_Mg_pH10          [2.1058, 3.138, 2.5437000000000003, 1.0932, 0....  \n",
       "deg_pH10             [4.7366, 4.6243, 1.2068, 1.1538, 0.0, 0.0, 0.7...  \n",
       "deg_Mg_50C           [2.2052, 1.7947000000000002, 0.7457, 3.1233, 0...  \n",
       "deg_50C              [0.0, 5.1198, -0.3551, -0.3518, 0.0, 0.0, 0.0,...  "
      ]
     },
     "execution_count": 6,
     "metadata": {},
     "output_type": "execute_result"
    }
   ],
   "source": [
    "train_full.head().T"
   ]
  },
  {
   "cell_type": "code",
   "execution_count": 7,
   "metadata": {
    "execution": {
     "iopub.execute_input": "2020-09-17T11:01:17.604321Z",
     "iopub.status.busy": "2020-09-17T11:01:17.603598Z",
     "iopub.status.idle": "2020-09-17T11:01:17.608698Z",
     "shell.execute_reply": "2020-09-17T11:01:17.608138Z"
    },
    "papermill": {
     "duration": 0.044514,
     "end_time": "2020-09-17T11:01:17.608814",
     "exception": false,
     "start_time": "2020-09-17T11:01:17.564300",
     "status": "completed"
    },
    "tags": []
   },
   "outputs": [
    {
     "data": {
      "text/html": [
       "<div>\n",
       "<style scoped>\n",
       "    .dataframe tbody tr th:only-of-type {\n",
       "        vertical-align: middle;\n",
       "    }\n",
       "\n",
       "    .dataframe tbody tr th {\n",
       "        vertical-align: top;\n",
       "    }\n",
       "\n",
       "    .dataframe thead th {\n",
       "        text-align: right;\n",
       "    }\n",
       "</style>\n",
       "<table border=\"1\" class=\"dataframe\">\n",
       "  <thead>\n",
       "    <tr style=\"text-align: right;\">\n",
       "      <th></th>\n",
       "      <th>0</th>\n",
       "      <th>1</th>\n",
       "      <th>2</th>\n",
       "      <th>3</th>\n",
       "      <th>4</th>\n",
       "    </tr>\n",
       "  </thead>\n",
       "  <tbody>\n",
       "    <tr>\n",
       "      <th>index</th>\n",
       "      <td>0</td>\n",
       "      <td>1</td>\n",
       "      <td>2</td>\n",
       "      <td>3</td>\n",
       "      <td>4</td>\n",
       "    </tr>\n",
       "    <tr>\n",
       "      <th>id</th>\n",
       "      <td>id_00073f8be</td>\n",
       "      <td>id_000ae4237</td>\n",
       "      <td>id_00131c573</td>\n",
       "      <td>id_00181fd34</td>\n",
       "      <td>id_0020473f7</td>\n",
       "    </tr>\n",
       "    <tr>\n",
       "      <th>sequence</th>\n",
       "      <td>GGAAAAGUACGACUUGAGUACGGAAAACGUACCAACUCGAUUAAAA...</td>\n",
       "      <td>GGAAACGGGUUCCGCGGAUUGCUGCUAAUAAGAGUAAUCUCUAAAU...</td>\n",
       "      <td>GGAAAACAAAACGGCCUGGAAGACGAAGGAAUUCGGCGCGAAGGCC...</td>\n",
       "      <td>GGAAAGGAUCUCUAUCGAAGGAUAGAGAUCGCUCGCGACGGCACGA...</td>\n",
       "      <td>GGAAACCCGCCCGCGCCCGCCCGCGCUGCUGCCGUGCCUCCUCUCC...</td>\n",
       "    </tr>\n",
       "    <tr>\n",
       "      <th>structure</th>\n",
       "      <td>......((((((((((.(((((.....))))))))((((((((......</td>\n",
       "      <td>.....((((..((((((...(((((.....((((....)))).......</td>\n",
       "      <td>...........((.(((.(.(..((..((..((((...))))..))...</td>\n",
       "      <td>......((((((((((....))))))))))((((((..((.(((.....</td>\n",
       "      <td>.....(((((((((((((((((((((((((((((((((((((((((...</td>\n",
       "    </tr>\n",
       "    <tr>\n",
       "      <th>predicted_loop_type</th>\n",
       "      <td>EEEEEESSSSSSSSSSBSSSSSHHHHHSSSSSSSSSSSSSSSSHHH...</td>\n",
       "      <td>EEEEESSSSIISSSSSSIIISSSSSIIIIISSSSHHHHSSSSIIII...</td>\n",
       "      <td>EEEEEEEEEEESSISSSISISIISSIISSIISSSSHHHSSSSIISS...</td>\n",
       "      <td>EEEEEESSSSSSSSSSHHHHSSSSSSSSSSSSSSSSIISSISSSHH...</td>\n",
       "      <td>EEEEESSSSSSSSSSSSSSSSSSSSSSSSSSSSSSSSSSSSSSSSS...</td>\n",
       "    </tr>\n",
       "    <tr>\n",
       "      <th>seq_length</th>\n",
       "      <td>107</td>\n",
       "      <td>130</td>\n",
       "      <td>107</td>\n",
       "      <td>107</td>\n",
       "      <td>130</td>\n",
       "    </tr>\n",
       "    <tr>\n",
       "      <th>seq_scored</th>\n",
       "      <td>68</td>\n",
       "      <td>91</td>\n",
       "      <td>68</td>\n",
       "      <td>68</td>\n",
       "      <td>91</td>\n",
       "    </tr>\n",
       "  </tbody>\n",
       "</table>\n",
       "</div>"
      ],
      "text/plain": [
       "                                                                     0  \\\n",
       "index                                                                0   \n",
       "id                                                        id_00073f8be   \n",
       "sequence             GGAAAAGUACGACUUGAGUACGGAAAACGUACCAACUCGAUUAAAA...   \n",
       "structure            ......((((((((((.(((((.....))))))))((((((((......   \n",
       "predicted_loop_type  EEEEEESSSSSSSSSSBSSSSSHHHHHSSSSSSSSSSSSSSSSHHH...   \n",
       "seq_length                                                         107   \n",
       "seq_scored                                                          68   \n",
       "\n",
       "                                                                     1  \\\n",
       "index                                                                1   \n",
       "id                                                        id_000ae4237   \n",
       "sequence             GGAAACGGGUUCCGCGGAUUGCUGCUAAUAAGAGUAAUCUCUAAAU...   \n",
       "structure            .....((((..((((((...(((((.....((((....)))).......   \n",
       "predicted_loop_type  EEEEESSSSIISSSSSSIIISSSSSIIIIISSSSHHHHSSSSIIII...   \n",
       "seq_length                                                         130   \n",
       "seq_scored                                                          91   \n",
       "\n",
       "                                                                     2  \\\n",
       "index                                                                2   \n",
       "id                                                        id_00131c573   \n",
       "sequence             GGAAAACAAAACGGCCUGGAAGACGAAGGAAUUCGGCGCGAAGGCC...   \n",
       "structure            ...........((.(((.(.(..((..((..((((...))))..))...   \n",
       "predicted_loop_type  EEEEEEEEEEESSISSSISISIISSIISSIISSSSHHHSSSSIISS...   \n",
       "seq_length                                                         107   \n",
       "seq_scored                                                          68   \n",
       "\n",
       "                                                                     3  \\\n",
       "index                                                                3   \n",
       "id                                                        id_00181fd34   \n",
       "sequence             GGAAAGGAUCUCUAUCGAAGGAUAGAGAUCGCUCGCGACGGCACGA...   \n",
       "structure            ......((((((((((....))))))))))((((((..((.(((.....   \n",
       "predicted_loop_type  EEEEEESSSSSSSSSSHHHHSSSSSSSSSSSSSSSSIISSISSSHH...   \n",
       "seq_length                                                         107   \n",
       "seq_scored                                                          68   \n",
       "\n",
       "                                                                     4  \n",
       "index                                                                4  \n",
       "id                                                        id_0020473f7  \n",
       "sequence             GGAAACCCGCCCGCGCCCGCCCGCGCUGCUGCCGUGCCUCCUCUCC...  \n",
       "structure            .....(((((((((((((((((((((((((((((((((((((((((...  \n",
       "predicted_loop_type  EEEEESSSSSSSSSSSSSSSSSSSSSSSSSSSSSSSSSSSSSSSSS...  \n",
       "seq_length                                                         130  \n",
       "seq_scored                                                          91  "
      ]
     },
     "execution_count": 7,
     "metadata": {},
     "output_type": "execute_result"
    }
   ],
   "source": [
    "test_full.head().T"
   ]
  },
  {
   "cell_type": "markdown",
   "metadata": {
    "papermill": {
     "duration": 0.025537,
     "end_time": "2020-09-17T11:01:17.660033",
     "exception": false,
     "start_time": "2020-09-17T11:01:17.634496",
     "status": "completed"
    },
    "tags": []
   },
   "source": [
    "Not so intuitive, right. Lets see if we can flatten it."
   ]
  },
  {
   "cell_type": "code",
   "execution_count": 8,
   "metadata": {
    "execution": {
     "iopub.execute_input": "2020-09-17T11:01:17.714221Z",
     "iopub.status.busy": "2020-09-17T11:01:17.713568Z",
     "iopub.status.idle": "2020-09-17T11:01:18.388594Z",
     "shell.execute_reply": "2020-09-17T11:01:18.389161Z"
    },
    "papermill": {
     "duration": 0.703746,
     "end_time": "2020-09-17T11:01:18.389357",
     "exception": false,
     "start_time": "2020-09-17T11:01:17.685611",
     "status": "completed"
    },
    "tags": []
   },
   "outputs": [],
   "source": [
    "train_json = [json.loads(line) for line in open('../input/stanford-covid-vaccine/train.json', 'r')]\n",
    "test_json = [json.loads(line) for line in open('../input/stanford-covid-vaccine/test.json', 'r')]"
   ]
  },
  {
   "cell_type": "code",
   "execution_count": 9,
   "metadata": {
    "execution": {
     "iopub.execute_input": "2020-09-17T11:01:18.443872Z",
     "iopub.status.busy": "2020-09-17T11:01:18.443160Z",
     "iopub.status.idle": "2020-09-17T11:01:30.833780Z",
     "shell.execute_reply": "2020-09-17T11:01:30.833122Z"
    },
    "papermill": {
     "duration": 12.419073,
     "end_time": "2020-09-17T11:01:30.833920",
     "exception": false,
     "start_time": "2020-09-17T11:01:18.414847",
     "status": "completed"
    },
    "tags": []
   },
   "outputs": [],
   "source": [
    "def preprocess_json(input_json, is_train):\n",
    "    \n",
    "    for index,json_ in enumerate(input_json):\n",
    "        json_['step'] = list(range(json_['seq_length']))\n",
    "        json_['sequence'] = list(json_['sequence'])\n",
    "        json_['structure'] = list(json_['structure'])\n",
    "        json_['predicted_loop_type'] = list(json_['predicted_loop_type'])\n",
    "        if os.path.exists('../input/stanford-covid-vaccine/bpps/'+json_['id']+'.npy'):\n",
    "            np_array = np.load('../input/stanford-covid-vaccine/bpps/'+json_['id']+'.npy')\n",
    "            json_['unpaired_probability'] = list(1-sum(np_array))\n",
    "        else:\n",
    "            print('bpps not found')\n",
    "        if is_train:\n",
    "            append_list = [np.nan for i in range(39)]\n",
    "            json_['reactivity'].extend(append_list)\n",
    "            json_['reactivity_error'].extend(append_list)\n",
    "            json_['deg_Mg_pH10'].extend(append_list)\n",
    "            json_['deg_error_Mg_pH10'].extend(append_list)\n",
    "            json_['deg_pH10'].extend(append_list)\n",
    "            json_['deg_error_pH10'].extend(append_list)\n",
    "            json_['deg_Mg_50C'].extend(append_list)\n",
    "            json_['deg_error_Mg_50C'].extend(append_list)\n",
    "            json_['deg_50C'].extend(append_list)\n",
    "            json_['deg_error_50C'].extend(append_list)\n",
    "                \n",
    "preprocess_json(train_json, True)\n",
    "preprocess_json(test_json, False)"
   ]
  },
  {
   "cell_type": "code",
   "execution_count": 10,
   "metadata": {
    "execution": {
     "iopub.execute_input": "2020-09-17T11:01:30.918519Z",
     "iopub.status.busy": "2020-09-17T11:01:30.913303Z",
     "iopub.status.idle": "2020-09-17T11:01:33.717003Z",
     "shell.execute_reply": "2020-09-17T11:01:33.717815Z"
    },
    "papermill": {
     "duration": 2.858152,
     "end_time": "2020-09-17T11:01:33.718023",
     "exception": false,
     "start_time": "2020-09-17T11:01:30.859871",
     "status": "completed"
    },
    "tags": []
   },
   "outputs": [
    {
     "name": "stdout",
     "output_type": "stream",
     "text": [
      "(256800, 18) (457953, 6)\n"
     ]
    }
   ],
   "source": [
    "def process_json(input_json, is_train):\n",
    "    if is_train:\n",
    "        train = pd.json_normalize(data = input_json, \n",
    "                                record_path ='step',  \n",
    "                                meta =['id','seq_length','seq_scored','SN_filter','signal_to_noise']) \n",
    "    else:\n",
    "        train = pd.json_normalize(data = input_json, \n",
    "                                record_path ='step',  \n",
    "                                meta =['id','seq_length','seq_scored']) \n",
    "    train.rename(columns={0:'step'}, inplace=True)\n",
    "    train['unpaired_probability'] = pd.json_normalize(data = input_json, \n",
    "                                record_path ='unpaired_probability'\n",
    "                                            )\n",
    "    train['sequence'] = pd.json_normalize(data = input_json, \n",
    "                                record_path ='sequence'\n",
    "                                            )\n",
    "    train['structure'] = pd.json_normalize(data = input_json, \n",
    "                                record_path ='structure'\n",
    "                                            )\n",
    "    train['predicted_loop_type'] = pd.json_normalize(data = input_json, \n",
    "                                record_path ='predicted_loop_type'\n",
    "                                            )\n",
    "    if is_train:\n",
    "        train['reactivity'] = pd.json_normalize(data = input_json, \n",
    "                                        record_path ='reactivity'\n",
    "                                                    )\n",
    "        train['reactivity_error'] = pd.json_normalize(data = input_json, \n",
    "                                        record_path ='reactivity_error'\n",
    "                                                    )\n",
    "        train['deg_Mg_pH10'] = pd.json_normalize(data = input_json, \n",
    "                                        record_path ='deg_Mg_pH10'\n",
    "                                                    )\n",
    "        train['deg_error_Mg_pH10'] = pd.json_normalize(data = input_json, \n",
    "                                        record_path ='deg_error_Mg_pH10'\n",
    "                                                    )\n",
    "        train['deg_pH10'] = pd.json_normalize(data = input_json, \n",
    "                                        record_path ='deg_pH10',\n",
    "                                                    )\n",
    "        train['deg_error_pH10'] = pd.json_normalize(data = input_json, \n",
    "                                        record_path ='deg_error_pH10',\n",
    "                                                    )\n",
    "        train['deg_Mg_50C'] = pd.json_normalize(data = input_json, \n",
    "                                        record_path ='deg_Mg_50C',\n",
    "                                                    )\n",
    "        train['deg_error_Mg_50C'] = pd.json_normalize(data = input_json, \n",
    "                                        record_path ='deg_error_Mg_50C',\n",
    "                                                    )\n",
    "        train['deg_50C'] = pd.json_normalize(data = input_json, \n",
    "                                        record_path ='deg_50C',\n",
    "                                                    )\n",
    "        train['deg_error_50C'] = pd.json_normalize(data = input_json, \n",
    "                                        record_path ='deg_error_50C',\n",
    "                                                    )\n",
    "    \n",
    "    train.set_index(['id','step'], inplace=True)\n",
    "    return train\n",
    "\n",
    "X_train = process_json(train_json, True)\n",
    "X_test = process_json(test_json, False)\n",
    "print(X_train.shape, X_test.shape)"
   ]
  },
  {
   "cell_type": "markdown",
   "metadata": {
    "papermill": {
     "duration": 0.025735,
     "end_time": "2020-09-17T11:01:33.770181",
     "exception": false,
     "start_time": "2020-09-17T11:01:33.744446",
     "status": "completed"
    },
    "tags": []
   },
   "source": [
    "So we got 256800 = 2400\\*107 rows. But since the measured values are there only for first 68 pairs, we will have NaN on the remaining columns for these entries. This is not cleaned here since the user can easily remove those with dropna if he wants only 68 entries or can fill with dummy values if he wants to use all 107. So we will have 2400\\*39 = 96300 NaN values in these columns."
   ]
  },
  {
   "cell_type": "code",
   "execution_count": 11,
   "metadata": {
    "execution": {
     "iopub.execute_input": "2020-09-17T11:01:33.855138Z",
     "iopub.status.busy": "2020-09-17T11:01:33.854187Z",
     "iopub.status.idle": "2020-09-17T11:01:34.001125Z",
     "shell.execute_reply": "2020-09-17T11:01:34.000390Z"
    },
    "papermill": {
     "duration": 0.205019,
     "end_time": "2020-09-17T11:01:34.001250",
     "exception": false,
     "start_time": "2020-09-17T11:01:33.796231",
     "status": "completed"
    },
    "tags": []
   },
   "outputs": [
    {
     "data": {
      "text/plain": [
       "seq_length              False\n",
       "seq_scored              False\n",
       "SN_filter               False\n",
       "signal_to_noise         False\n",
       "unpaired_probability    False\n",
       "sequence                False\n",
       "structure               False\n",
       "predicted_loop_type     False\n",
       "reactivity               True\n",
       "reactivity_error         True\n",
       "deg_Mg_pH10              True\n",
       "deg_error_Mg_pH10        True\n",
       "deg_pH10                 True\n",
       "deg_error_pH10           True\n",
       "deg_Mg_50C               True\n",
       "deg_error_Mg_50C         True\n",
       "deg_50C                  True\n",
       "deg_error_50C            True\n",
       "dtype: bool"
      ]
     },
     "execution_count": 11,
     "metadata": {},
     "output_type": "execute_result"
    }
   ],
   "source": [
    "X_train.isnull().any()"
   ]
  },
  {
   "cell_type": "code",
   "execution_count": 12,
   "metadata": {
    "execution": {
     "iopub.execute_input": "2020-09-17T11:01:34.113818Z",
     "iopub.status.busy": "2020-09-17T11:01:34.086405Z",
     "iopub.status.idle": "2020-09-17T11:01:34.237096Z",
     "shell.execute_reply": "2020-09-17T11:01:34.236502Z"
    },
    "papermill": {
     "duration": 0.209086,
     "end_time": "2020-09-17T11:01:34.237235",
     "exception": false,
     "start_time": "2020-09-17T11:01:34.028149",
     "status": "completed"
    },
    "tags": []
   },
   "outputs": [
    {
     "data": {
      "text/plain": [
       "seq_length                  0\n",
       "seq_scored                  0\n",
       "SN_filter                   0\n",
       "signal_to_noise             0\n",
       "unpaired_probability        0\n",
       "sequence                    0\n",
       "structure                   0\n",
       "predicted_loop_type         0\n",
       "reactivity              93600\n",
       "reactivity_error        93600\n",
       "deg_Mg_pH10             93600\n",
       "deg_error_Mg_pH10       93600\n",
       "deg_pH10                93600\n",
       "deg_error_pH10          93600\n",
       "deg_Mg_50C              93600\n",
       "deg_error_Mg_50C        93600\n",
       "deg_50C                 93600\n",
       "deg_error_50C           93600\n",
       "dtype: int64"
      ]
     },
     "execution_count": 12,
     "metadata": {},
     "output_type": "execute_result"
    }
   ],
   "source": [
    "X_train.isnull().sum()"
   ]
  },
  {
   "cell_type": "code",
   "execution_count": 13,
   "metadata": {
    "execution": {
     "iopub.execute_input": "2020-09-17T11:01:34.323555Z",
     "iopub.status.busy": "2020-09-17T11:01:34.322620Z",
     "iopub.status.idle": "2020-09-17T11:01:34.327030Z",
     "shell.execute_reply": "2020-09-17T11:01:34.326297Z"
    },
    "papermill": {
     "duration": 0.061905,
     "end_time": "2020-09-17T11:01:34.327158",
     "exception": false,
     "start_time": "2020-09-17T11:01:34.265253",
     "status": "completed"
    },
    "tags": []
   },
   "outputs": [
    {
     "data": {
      "text/html": [
       "<div>\n",
       "<style scoped>\n",
       "    .dataframe tbody tr th:only-of-type {\n",
       "        vertical-align: middle;\n",
       "    }\n",
       "\n",
       "    .dataframe tbody tr th {\n",
       "        vertical-align: top;\n",
       "    }\n",
       "\n",
       "    .dataframe thead th {\n",
       "        text-align: right;\n",
       "    }\n",
       "</style>\n",
       "<table border=\"1\" class=\"dataframe\">\n",
       "  <thead>\n",
       "    <tr style=\"text-align: right;\">\n",
       "      <th></th>\n",
       "      <th></th>\n",
       "      <th>seq_length</th>\n",
       "      <th>seq_scored</th>\n",
       "      <th>SN_filter</th>\n",
       "      <th>signal_to_noise</th>\n",
       "      <th>unpaired_probability</th>\n",
       "      <th>sequence</th>\n",
       "      <th>structure</th>\n",
       "      <th>predicted_loop_type</th>\n",
       "      <th>reactivity</th>\n",
       "      <th>reactivity_error</th>\n",
       "      <th>deg_Mg_pH10</th>\n",
       "      <th>deg_error_Mg_pH10</th>\n",
       "      <th>deg_pH10</th>\n",
       "      <th>deg_error_pH10</th>\n",
       "      <th>deg_Mg_50C</th>\n",
       "      <th>deg_error_Mg_50C</th>\n",
       "      <th>deg_50C</th>\n",
       "      <th>deg_error_50C</th>\n",
       "    </tr>\n",
       "    <tr>\n",
       "      <th>id</th>\n",
       "      <th>step</th>\n",
       "      <th></th>\n",
       "      <th></th>\n",
       "      <th></th>\n",
       "      <th></th>\n",
       "      <th></th>\n",
       "      <th></th>\n",
       "      <th></th>\n",
       "      <th></th>\n",
       "      <th></th>\n",
       "      <th></th>\n",
       "      <th></th>\n",
       "      <th></th>\n",
       "      <th></th>\n",
       "      <th></th>\n",
       "      <th></th>\n",
       "      <th></th>\n",
       "      <th></th>\n",
       "      <th></th>\n",
       "    </tr>\n",
       "  </thead>\n",
       "  <tbody>\n",
       "    <tr>\n",
       "      <th rowspan=\"5\" valign=\"top\">id_001f94081</th>\n",
       "      <th>0</th>\n",
       "      <td>107</td>\n",
       "      <td>68</td>\n",
       "      <td>1</td>\n",
       "      <td>6.894</td>\n",
       "      <td>0.801458</td>\n",
       "      <td>G</td>\n",
       "      <td>.</td>\n",
       "      <td>E</td>\n",
       "      <td>0.3297</td>\n",
       "      <td>0.1359</td>\n",
       "      <td>0.7556</td>\n",
       "      <td>0.2613</td>\n",
       "      <td>2.3375</td>\n",
       "      <td>0.2631</td>\n",
       "      <td>0.3581</td>\n",
       "      <td>0.1501</td>\n",
       "      <td>0.6382</td>\n",
       "      <td>0.2167</td>\n",
       "    </tr>\n",
       "    <tr>\n",
       "      <th>1</th>\n",
       "      <td>107</td>\n",
       "      <td>68</td>\n",
       "      <td>1</td>\n",
       "      <td>6.894</td>\n",
       "      <td>0.816288</td>\n",
       "      <td>G</td>\n",
       "      <td>.</td>\n",
       "      <td>E</td>\n",
       "      <td>1.5693</td>\n",
       "      <td>0.2070</td>\n",
       "      <td>2.9830</td>\n",
       "      <td>0.3842</td>\n",
       "      <td>3.5060</td>\n",
       "      <td>0.2860</td>\n",
       "      <td>2.9683</td>\n",
       "      <td>0.2750</td>\n",
       "      <td>3.4773</td>\n",
       "      <td>0.3475</td>\n",
       "    </tr>\n",
       "    <tr>\n",
       "      <th>2</th>\n",
       "      <td>107</td>\n",
       "      <td>68</td>\n",
       "      <td>1</td>\n",
       "      <td>6.894</td>\n",
       "      <td>0.939998</td>\n",
       "      <td>A</td>\n",
       "      <td>.</td>\n",
       "      <td>E</td>\n",
       "      <td>1.1227</td>\n",
       "      <td>0.1633</td>\n",
       "      <td>0.2526</td>\n",
       "      <td>0.1372</td>\n",
       "      <td>0.3008</td>\n",
       "      <td>0.0964</td>\n",
       "      <td>0.2589</td>\n",
       "      <td>0.0947</td>\n",
       "      <td>0.9988</td>\n",
       "      <td>0.1880</td>\n",
       "    </tr>\n",
       "    <tr>\n",
       "      <th>3</th>\n",
       "      <td>107</td>\n",
       "      <td>68</td>\n",
       "      <td>1</td>\n",
       "      <td>6.894</td>\n",
       "      <td>0.986878</td>\n",
       "      <td>A</td>\n",
       "      <td>.</td>\n",
       "      <td>E</td>\n",
       "      <td>0.8686</td>\n",
       "      <td>0.1452</td>\n",
       "      <td>1.3789</td>\n",
       "      <td>0.2531</td>\n",
       "      <td>1.0108</td>\n",
       "      <td>0.1574</td>\n",
       "      <td>1.4552</td>\n",
       "      <td>0.1866</td>\n",
       "      <td>1.3228</td>\n",
       "      <td>0.2124</td>\n",
       "    </tr>\n",
       "    <tr>\n",
       "      <th>4</th>\n",
       "      <td>107</td>\n",
       "      <td>68</td>\n",
       "      <td>1</td>\n",
       "      <td>6.894</td>\n",
       "      <td>0.988720</td>\n",
       "      <td>A</td>\n",
       "      <td>.</td>\n",
       "      <td>E</td>\n",
       "      <td>0.7217</td>\n",
       "      <td>0.1314</td>\n",
       "      <td>0.6376</td>\n",
       "      <td>0.1798</td>\n",
       "      <td>0.2635</td>\n",
       "      <td>0.1000</td>\n",
       "      <td>0.7244</td>\n",
       "      <td>0.1369</td>\n",
       "      <td>0.7877</td>\n",
       "      <td>0.1703</td>\n",
       "    </tr>\n",
       "  </tbody>\n",
       "</table>\n",
       "</div>"
      ],
      "text/plain": [
       "                  seq_length seq_scored SN_filter signal_to_noise  \\\n",
       "id           step                                                   \n",
       "id_001f94081 0           107         68         1           6.894   \n",
       "             1           107         68         1           6.894   \n",
       "             2           107         68         1           6.894   \n",
       "             3           107         68         1           6.894   \n",
       "             4           107         68         1           6.894   \n",
       "\n",
       "                   unpaired_probability sequence structure  \\\n",
       "id           step                                            \n",
       "id_001f94081 0                 0.801458        G         .   \n",
       "             1                 0.816288        G         .   \n",
       "             2                 0.939998        A         .   \n",
       "             3                 0.986878        A         .   \n",
       "             4                 0.988720        A         .   \n",
       "\n",
       "                  predicted_loop_type  reactivity  reactivity_error  \\\n",
       "id           step                                                     \n",
       "id_001f94081 0                      E      0.3297            0.1359   \n",
       "             1                      E      1.5693            0.2070   \n",
       "             2                      E      1.1227            0.1633   \n",
       "             3                      E      0.8686            0.1452   \n",
       "             4                      E      0.7217            0.1314   \n",
       "\n",
       "                   deg_Mg_pH10  deg_error_Mg_pH10  deg_pH10  deg_error_pH10  \\\n",
       "id           step                                                             \n",
       "id_001f94081 0          0.7556             0.2613    2.3375          0.2631   \n",
       "             1          2.9830             0.3842    3.5060          0.2860   \n",
       "             2          0.2526             0.1372    0.3008          0.0964   \n",
       "             3          1.3789             0.2531    1.0108          0.1574   \n",
       "             4          0.6376             0.1798    0.2635          0.1000   \n",
       "\n",
       "                   deg_Mg_50C  deg_error_Mg_50C  deg_50C  deg_error_50C  \n",
       "id           step                                                        \n",
       "id_001f94081 0         0.3581            0.1501   0.6382         0.2167  \n",
       "             1         2.9683            0.2750   3.4773         0.3475  \n",
       "             2         0.2589            0.0947   0.9988         0.1880  \n",
       "             3         1.4552            0.1866   1.3228         0.2124  \n",
       "             4         0.7244            0.1369   0.7877         0.1703  "
      ]
     },
     "execution_count": 13,
     "metadata": {},
     "output_type": "execute_result"
    }
   ],
   "source": [
    "X_train.head()"
   ]
  },
  {
   "cell_type": "code",
   "execution_count": 14,
   "metadata": {
    "execution": {
     "iopub.execute_input": "2020-09-17T11:01:34.459708Z",
     "iopub.status.busy": "2020-09-17T11:01:34.458982Z",
     "iopub.status.idle": "2020-09-17T11:01:34.623304Z",
     "shell.execute_reply": "2020-09-17T11:01:34.624481Z"
    },
    "papermill": {
     "duration": 0.266258,
     "end_time": "2020-09-17T11:01:34.624724",
     "exception": false,
     "start_time": "2020-09-17T11:01:34.358466",
     "status": "completed"
    },
    "tags": []
   },
   "outputs": [
    {
     "name": "stdout",
     "output_type": "stream",
     "text": [
      "(67303, 6) (390650, 6)\n"
     ]
    }
   ],
   "source": [
    "print(X_test[X_test.seq_length==107].shape, X_test[X_test.seq_length==130].shape)"
   ]
  },
  {
   "cell_type": "markdown",
   "metadata": {
    "papermill": {
     "duration": 0.028413,
     "end_time": "2020-09-17T11:01:34.682004",
     "exception": false,
     "start_time": "2020-09-17T11:01:34.653591",
     "status": "completed"
    },
    "tags": []
   },
   "source": [
    "Test set has 629\\*107 = 67303 + 3005\\*130 = 390650 entries corresponding to 3634 rows in test set."
   ]
  },
  {
   "cell_type": "code",
   "execution_count": 15,
   "metadata": {
    "execution": {
     "iopub.execute_input": "2020-09-17T11:01:34.745803Z",
     "iopub.status.busy": "2020-09-17T11:01:34.744890Z",
     "iopub.status.idle": "2020-09-17T11:01:34.991808Z",
     "shell.execute_reply": "2020-09-17T11:01:34.992725Z"
    },
    "papermill": {
     "duration": 0.282044,
     "end_time": "2020-09-17T11:01:34.992924",
     "exception": false,
     "start_time": "2020-09-17T11:01:34.710880",
     "status": "completed"
    },
    "tags": []
   },
   "outputs": [
    {
     "name": "stdout",
     "output_type": "stream",
     "text": [
      "seq_length              False\n",
      "seq_scored              False\n",
      "unpaired_probability    False\n",
      "sequence                False\n",
      "structure               False\n",
      "predicted_loop_type     False\n",
      "dtype: bool\n"
     ]
    }
   ],
   "source": [
    "print(X_test.isnull().any())"
   ]
  },
  {
   "cell_type": "markdown",
   "metadata": {
    "papermill": {
     "duration": 0.028862,
     "end_time": "2020-09-17T11:01:35.051452",
     "exception": false,
     "start_time": "2020-09-17T11:01:35.022590",
     "status": "completed"
    },
    "tags": []
   },
   "source": [
    "There are no NaN entries as expected."
   ]
  },
  {
   "cell_type": "code",
   "execution_count": 16,
   "metadata": {
    "execution": {
     "iopub.execute_input": "2020-09-17T11:01:35.126096Z",
     "iopub.status.busy": "2020-09-17T11:01:35.125042Z",
     "iopub.status.idle": "2020-09-17T11:01:35.129744Z",
     "shell.execute_reply": "2020-09-17T11:01:35.129117Z"
    },
    "papermill": {
     "duration": 0.049539,
     "end_time": "2020-09-17T11:01:35.129871",
     "exception": false,
     "start_time": "2020-09-17T11:01:35.080332",
     "status": "completed"
    },
    "tags": []
   },
   "outputs": [
    {
     "data": {
      "text/html": [
       "<div>\n",
       "<style scoped>\n",
       "    .dataframe tbody tr th:only-of-type {\n",
       "        vertical-align: middle;\n",
       "    }\n",
       "\n",
       "    .dataframe tbody tr th {\n",
       "        vertical-align: top;\n",
       "    }\n",
       "\n",
       "    .dataframe thead th {\n",
       "        text-align: right;\n",
       "    }\n",
       "</style>\n",
       "<table border=\"1\" class=\"dataframe\">\n",
       "  <thead>\n",
       "    <tr style=\"text-align: right;\">\n",
       "      <th></th>\n",
       "      <th></th>\n",
       "      <th>seq_length</th>\n",
       "      <th>seq_scored</th>\n",
       "      <th>unpaired_probability</th>\n",
       "      <th>sequence</th>\n",
       "      <th>structure</th>\n",
       "      <th>predicted_loop_type</th>\n",
       "    </tr>\n",
       "    <tr>\n",
       "      <th>id</th>\n",
       "      <th>step</th>\n",
       "      <th></th>\n",
       "      <th></th>\n",
       "      <th></th>\n",
       "      <th></th>\n",
       "      <th></th>\n",
       "      <th></th>\n",
       "    </tr>\n",
       "  </thead>\n",
       "  <tbody>\n",
       "    <tr>\n",
       "      <th rowspan=\"5\" valign=\"top\">id_00073f8be</th>\n",
       "      <th>0</th>\n",
       "      <td>107</td>\n",
       "      <td>68</td>\n",
       "      <td>0.962984</td>\n",
       "      <td>G</td>\n",
       "      <td>.</td>\n",
       "      <td>E</td>\n",
       "    </tr>\n",
       "    <tr>\n",
       "      <th>1</th>\n",
       "      <td>107</td>\n",
       "      <td>68</td>\n",
       "      <td>0.987545</td>\n",
       "      <td>G</td>\n",
       "      <td>.</td>\n",
       "      <td>E</td>\n",
       "    </tr>\n",
       "    <tr>\n",
       "      <th>2</th>\n",
       "      <td>107</td>\n",
       "      <td>68</td>\n",
       "      <td>0.997380</td>\n",
       "      <td>A</td>\n",
       "      <td>.</td>\n",
       "      <td>E</td>\n",
       "    </tr>\n",
       "    <tr>\n",
       "      <th>3</th>\n",
       "      <td>107</td>\n",
       "      <td>68</td>\n",
       "      <td>0.999286</td>\n",
       "      <td>A</td>\n",
       "      <td>.</td>\n",
       "      <td>E</td>\n",
       "    </tr>\n",
       "    <tr>\n",
       "      <th>4</th>\n",
       "      <td>107</td>\n",
       "      <td>68</td>\n",
       "      <td>0.995819</td>\n",
       "      <td>A</td>\n",
       "      <td>.</td>\n",
       "      <td>E</td>\n",
       "    </tr>\n",
       "  </tbody>\n",
       "</table>\n",
       "</div>"
      ],
      "text/plain": [
       "                  seq_length seq_scored  unpaired_probability sequence  \\\n",
       "id           step                                                        \n",
       "id_00073f8be 0           107         68              0.962984        G   \n",
       "             1           107         68              0.987545        G   \n",
       "             2           107         68              0.997380        A   \n",
       "             3           107         68              0.999286        A   \n",
       "             4           107         68              0.995819        A   \n",
       "\n",
       "                  structure predicted_loop_type  \n",
       "id           step                                \n",
       "id_00073f8be 0            .                   E  \n",
       "             1            .                   E  \n",
       "             2            .                   E  \n",
       "             3            .                   E  \n",
       "             4            .                   E  "
      ]
     },
     "execution_count": 16,
     "metadata": {},
     "output_type": "execute_result"
    }
   ],
   "source": [
    "X_test.head()"
   ]
  },
  {
   "cell_type": "markdown",
   "metadata": {
    "papermill": {
     "duration": 0.033195,
     "end_time": "2020-09-17T11:01:35.196282",
     "exception": false,
     "start_time": "2020-09-17T11:01:35.163087",
     "status": "completed"
    },
    "tags": []
   },
   "source": [
    "### Write to CSV file"
   ]
  },
  {
   "cell_type": "code",
   "execution_count": 17,
   "metadata": {
    "execution": {
     "iopub.execute_input": "2020-09-17T11:01:35.268625Z",
     "iopub.status.busy": "2020-09-17T11:01:35.267974Z",
     "iopub.status.idle": "2020-09-17T11:01:43.617900Z",
     "shell.execute_reply": "2020-09-17T11:01:43.617215Z"
    },
    "papermill": {
     "duration": 8.387389,
     "end_time": "2020-09-17T11:01:43.618019",
     "exception": false,
     "start_time": "2020-09-17T11:01:35.230630",
     "status": "completed"
    },
    "tags": []
   },
   "outputs": [],
   "source": [
    "X_train.to_csv('train.csv')\n",
    "X_test.to_csv('test.csv')"
   ]
  },
  {
   "cell_type": "code",
   "execution_count": 18,
   "metadata": {
    "execution": {
     "iopub.execute_input": "2020-09-17T11:01:43.723396Z",
     "iopub.status.busy": "2020-09-17T11:01:43.722501Z",
     "iopub.status.idle": "2020-09-17T11:01:44.520904Z",
     "shell.execute_reply": "2020-09-17T11:01:44.520331Z"
    },
    "papermill": {
     "duration": 0.836065,
     "end_time": "2020-09-17T11:01:44.521029",
     "exception": false,
     "start_time": "2020-09-17T11:01:43.684964",
     "status": "completed"
    },
    "tags": []
   },
   "outputs": [],
   "source": [
    "!cp ../input/stanford-covid-vaccine/sample_submission.csv sample_submission.csv "
   ]
  },
  {
   "cell_type": "markdown",
   "metadata": {
    "papermill": {
     "duration": 0.029274,
     "end_time": "2020-09-17T11:01:44.579994",
     "exception": false,
     "start_time": "2020-09-17T11:01:44.550720",
     "status": "completed"
    },
    "tags": []
   },
   "source": [
    "### Read back and verify shape and contents"
   ]
  },
  {
   "cell_type": "code",
   "execution_count": 19,
   "metadata": {
    "execution": {
     "iopub.execute_input": "2020-09-17T11:01:44.648812Z",
     "iopub.status.busy": "2020-09-17T11:01:44.648088Z",
     "iopub.status.idle": "2020-09-17T11:01:45.278786Z",
     "shell.execute_reply": "2020-09-17T11:01:45.279386Z"
    },
    "papermill": {
     "duration": 0.669381,
     "end_time": "2020-09-17T11:01:45.279562",
     "exception": false,
     "start_time": "2020-09-17T11:01:44.610181",
     "status": "completed"
    },
    "tags": []
   },
   "outputs": [
    {
     "name": "stdout",
     "output_type": "stream",
     "text": [
      "seq_length               object\n",
      "seq_scored               object\n",
      "SN_filter                object\n",
      "signal_to_noise          object\n",
      "unpaired_probability    float64\n",
      "sequence                 object\n",
      "structure                object\n",
      "predicted_loop_type      object\n",
      "reactivity              float64\n",
      "reactivity_error        float64\n",
      "deg_Mg_pH10             float64\n",
      "deg_error_Mg_pH10       float64\n",
      "deg_pH10                float64\n",
      "deg_error_pH10          float64\n",
      "deg_Mg_50C              float64\n",
      "deg_error_Mg_50C        float64\n",
      "deg_50C                 float64\n",
      "deg_error_50C           float64\n",
      "dtype: object\n",
      "seq_length                int64\n",
      "seq_scored                int64\n",
      "SN_filter               float64\n",
      "signal_to_noise         float64\n",
      "unpaired_probability    float64\n",
      "sequence                 object\n",
      "structure                object\n",
      "predicted_loop_type      object\n",
      "reactivity              float64\n",
      "reactivity_error        float64\n",
      "deg_Mg_pH10             float64\n",
      "deg_error_Mg_pH10       float64\n",
      "deg_pH10                float64\n",
      "deg_error_pH10          float64\n",
      "deg_Mg_50C              float64\n",
      "deg_error_Mg_50C        float64\n",
      "deg_50C                 float64\n",
      "deg_error_50C           float64\n",
      "dtype: object\n"
     ]
    }
   ],
   "source": [
    "test_train = pd.read_csv('train.csv', index_col=[0,1])\n",
    "print(X_train.dtypes)\n",
    "print(test_train.dtypes)"
   ]
  },
  {
   "cell_type": "markdown",
   "metadata": {
    "papermill": {
     "duration": 0.032145,
     "end_time": "2020-09-17T11:01:45.342411",
     "exception": false,
     "start_time": "2020-09-17T11:01:45.310266",
     "status": "completed"
    },
    "tags": []
   },
   "source": [
    "Lets compare the columns of same type (float64 not compared as floating point numbers will not match due to precision)"
   ]
  },
  {
   "cell_type": "code",
   "execution_count": 20,
   "metadata": {
    "execution": {
     "iopub.execute_input": "2020-09-17T11:01:45.412138Z",
     "iopub.status.busy": "2020-09-17T11:01:45.411389Z",
     "iopub.status.idle": "2020-09-17T11:01:45.578385Z",
     "shell.execute_reply": "2020-09-17T11:01:45.577787Z"
    },
    "papermill": {
     "duration": 0.205782,
     "end_time": "2020-09-17T11:01:45.578499",
     "exception": false,
     "start_time": "2020-09-17T11:01:45.372717",
     "status": "completed"
    },
    "tags": []
   },
   "outputs": [
    {
     "name": "stdout",
     "output_type": "stream",
     "text": [
      "(256800, 18) (256800, 18) True\n"
     ]
    }
   ],
   "source": [
    "cols = ['sequence','structure','predicted_loop_type']\n",
    "print(X_train.shape, test_train.shape, test_train[cols].equals(X_train[cols]))"
   ]
  },
  {
   "cell_type": "code",
   "execution_count": 21,
   "metadata": {
    "execution": {
     "iopub.execute_input": "2020-09-17T11:01:45.666969Z",
     "iopub.status.busy": "2020-09-17T11:01:45.666034Z",
     "iopub.status.idle": "2020-09-17T11:01:45.669600Z",
     "shell.execute_reply": "2020-09-17T11:01:45.670122Z"
    },
    "papermill": {
     "duration": 0.061134,
     "end_time": "2020-09-17T11:01:45.670263",
     "exception": false,
     "start_time": "2020-09-17T11:01:45.609129",
     "status": "completed"
    },
    "tags": []
   },
   "outputs": [
    {
     "data": {
      "text/html": [
       "<div>\n",
       "<style scoped>\n",
       "    .dataframe tbody tr th:only-of-type {\n",
       "        vertical-align: middle;\n",
       "    }\n",
       "\n",
       "    .dataframe tbody tr th {\n",
       "        vertical-align: top;\n",
       "    }\n",
       "\n",
       "    .dataframe thead th {\n",
       "        text-align: right;\n",
       "    }\n",
       "</style>\n",
       "<table border=\"1\" class=\"dataframe\">\n",
       "  <thead>\n",
       "    <tr style=\"text-align: right;\">\n",
       "      <th></th>\n",
       "      <th></th>\n",
       "      <th>seq_length</th>\n",
       "      <th>seq_scored</th>\n",
       "      <th>SN_filter</th>\n",
       "      <th>signal_to_noise</th>\n",
       "      <th>unpaired_probability</th>\n",
       "      <th>sequence</th>\n",
       "      <th>structure</th>\n",
       "      <th>predicted_loop_type</th>\n",
       "      <th>reactivity</th>\n",
       "      <th>reactivity_error</th>\n",
       "      <th>deg_Mg_pH10</th>\n",
       "      <th>deg_error_Mg_pH10</th>\n",
       "      <th>deg_pH10</th>\n",
       "      <th>deg_error_pH10</th>\n",
       "      <th>deg_Mg_50C</th>\n",
       "      <th>deg_error_Mg_50C</th>\n",
       "      <th>deg_50C</th>\n",
       "      <th>deg_error_50C</th>\n",
       "    </tr>\n",
       "    <tr>\n",
       "      <th>id</th>\n",
       "      <th>step</th>\n",
       "      <th></th>\n",
       "      <th></th>\n",
       "      <th></th>\n",
       "      <th></th>\n",
       "      <th></th>\n",
       "      <th></th>\n",
       "      <th></th>\n",
       "      <th></th>\n",
       "      <th></th>\n",
       "      <th></th>\n",
       "      <th></th>\n",
       "      <th></th>\n",
       "      <th></th>\n",
       "      <th></th>\n",
       "      <th></th>\n",
       "      <th></th>\n",
       "      <th></th>\n",
       "      <th></th>\n",
       "    </tr>\n",
       "  </thead>\n",
       "  <tbody>\n",
       "    <tr>\n",
       "      <th rowspan=\"5\" valign=\"top\">id_001f94081</th>\n",
       "      <th>0</th>\n",
       "      <td>107</td>\n",
       "      <td>68</td>\n",
       "      <td>1</td>\n",
       "      <td>6.894</td>\n",
       "      <td>0.801458</td>\n",
       "      <td>G</td>\n",
       "      <td>.</td>\n",
       "      <td>E</td>\n",
       "      <td>0.3297</td>\n",
       "      <td>0.1359</td>\n",
       "      <td>0.7556</td>\n",
       "      <td>0.2613</td>\n",
       "      <td>2.3375</td>\n",
       "      <td>0.2631</td>\n",
       "      <td>0.3581</td>\n",
       "      <td>0.1501</td>\n",
       "      <td>0.6382</td>\n",
       "      <td>0.2167</td>\n",
       "    </tr>\n",
       "    <tr>\n",
       "      <th>1</th>\n",
       "      <td>107</td>\n",
       "      <td>68</td>\n",
       "      <td>1</td>\n",
       "      <td>6.894</td>\n",
       "      <td>0.816288</td>\n",
       "      <td>G</td>\n",
       "      <td>.</td>\n",
       "      <td>E</td>\n",
       "      <td>1.5693</td>\n",
       "      <td>0.2070</td>\n",
       "      <td>2.9830</td>\n",
       "      <td>0.3842</td>\n",
       "      <td>3.5060</td>\n",
       "      <td>0.2860</td>\n",
       "      <td>2.9683</td>\n",
       "      <td>0.2750</td>\n",
       "      <td>3.4773</td>\n",
       "      <td>0.3475</td>\n",
       "    </tr>\n",
       "    <tr>\n",
       "      <th>2</th>\n",
       "      <td>107</td>\n",
       "      <td>68</td>\n",
       "      <td>1</td>\n",
       "      <td>6.894</td>\n",
       "      <td>0.939998</td>\n",
       "      <td>A</td>\n",
       "      <td>.</td>\n",
       "      <td>E</td>\n",
       "      <td>1.1227</td>\n",
       "      <td>0.1633</td>\n",
       "      <td>0.2526</td>\n",
       "      <td>0.1372</td>\n",
       "      <td>0.3008</td>\n",
       "      <td>0.0964</td>\n",
       "      <td>0.2589</td>\n",
       "      <td>0.0947</td>\n",
       "      <td>0.9988</td>\n",
       "      <td>0.1880</td>\n",
       "    </tr>\n",
       "    <tr>\n",
       "      <th>3</th>\n",
       "      <td>107</td>\n",
       "      <td>68</td>\n",
       "      <td>1</td>\n",
       "      <td>6.894</td>\n",
       "      <td>0.986878</td>\n",
       "      <td>A</td>\n",
       "      <td>.</td>\n",
       "      <td>E</td>\n",
       "      <td>0.8686</td>\n",
       "      <td>0.1452</td>\n",
       "      <td>1.3789</td>\n",
       "      <td>0.2531</td>\n",
       "      <td>1.0108</td>\n",
       "      <td>0.1574</td>\n",
       "      <td>1.4552</td>\n",
       "      <td>0.1866</td>\n",
       "      <td>1.3228</td>\n",
       "      <td>0.2124</td>\n",
       "    </tr>\n",
       "    <tr>\n",
       "      <th>4</th>\n",
       "      <td>107</td>\n",
       "      <td>68</td>\n",
       "      <td>1</td>\n",
       "      <td>6.894</td>\n",
       "      <td>0.988720</td>\n",
       "      <td>A</td>\n",
       "      <td>.</td>\n",
       "      <td>E</td>\n",
       "      <td>0.7217</td>\n",
       "      <td>0.1314</td>\n",
       "      <td>0.6376</td>\n",
       "      <td>0.1798</td>\n",
       "      <td>0.2635</td>\n",
       "      <td>0.1000</td>\n",
       "      <td>0.7244</td>\n",
       "      <td>0.1369</td>\n",
       "      <td>0.7877</td>\n",
       "      <td>0.1703</td>\n",
       "    </tr>\n",
       "  </tbody>\n",
       "</table>\n",
       "</div>"
      ],
      "text/plain": [
       "                  seq_length seq_scored SN_filter signal_to_noise  \\\n",
       "id           step                                                   \n",
       "id_001f94081 0           107         68         1           6.894   \n",
       "             1           107         68         1           6.894   \n",
       "             2           107         68         1           6.894   \n",
       "             3           107         68         1           6.894   \n",
       "             4           107         68         1           6.894   \n",
       "\n",
       "                   unpaired_probability sequence structure  \\\n",
       "id           step                                            \n",
       "id_001f94081 0                 0.801458        G         .   \n",
       "             1                 0.816288        G         .   \n",
       "             2                 0.939998        A         .   \n",
       "             3                 0.986878        A         .   \n",
       "             4                 0.988720        A         .   \n",
       "\n",
       "                  predicted_loop_type  reactivity  reactivity_error  \\\n",
       "id           step                                                     \n",
       "id_001f94081 0                      E      0.3297            0.1359   \n",
       "             1                      E      1.5693            0.2070   \n",
       "             2                      E      1.1227            0.1633   \n",
       "             3                      E      0.8686            0.1452   \n",
       "             4                      E      0.7217            0.1314   \n",
       "\n",
       "                   deg_Mg_pH10  deg_error_Mg_pH10  deg_pH10  deg_error_pH10  \\\n",
       "id           step                                                             \n",
       "id_001f94081 0          0.7556             0.2613    2.3375          0.2631   \n",
       "             1          2.9830             0.3842    3.5060          0.2860   \n",
       "             2          0.2526             0.1372    0.3008          0.0964   \n",
       "             3          1.3789             0.2531    1.0108          0.1574   \n",
       "             4          0.6376             0.1798    0.2635          0.1000   \n",
       "\n",
       "                   deg_Mg_50C  deg_error_Mg_50C  deg_50C  deg_error_50C  \n",
       "id           step                                                        \n",
       "id_001f94081 0         0.3581            0.1501   0.6382         0.2167  \n",
       "             1         2.9683            0.2750   3.4773         0.3475  \n",
       "             2         0.2589            0.0947   0.9988         0.1880  \n",
       "             3         1.4552            0.1866   1.3228         0.2124  \n",
       "             4         0.7244            0.1369   0.7877         0.1703  "
      ]
     },
     "execution_count": 21,
     "metadata": {},
     "output_type": "execute_result"
    }
   ],
   "source": [
    "X_train.head()"
   ]
  },
  {
   "cell_type": "code",
   "execution_count": 22,
   "metadata": {
    "execution": {
     "iopub.execute_input": "2020-09-17T11:01:45.759961Z",
     "iopub.status.busy": "2020-09-17T11:01:45.759215Z",
     "iopub.status.idle": "2020-09-17T11:01:45.763523Z",
     "shell.execute_reply": "2020-09-17T11:01:45.762965Z"
    },
    "papermill": {
     "duration": 0.061645,
     "end_time": "2020-09-17T11:01:45.763650",
     "exception": false,
     "start_time": "2020-09-17T11:01:45.702005",
     "status": "completed"
    },
    "tags": []
   },
   "outputs": [
    {
     "data": {
      "text/html": [
       "<div>\n",
       "<style scoped>\n",
       "    .dataframe tbody tr th:only-of-type {\n",
       "        vertical-align: middle;\n",
       "    }\n",
       "\n",
       "    .dataframe tbody tr th {\n",
       "        vertical-align: top;\n",
       "    }\n",
       "\n",
       "    .dataframe thead th {\n",
       "        text-align: right;\n",
       "    }\n",
       "</style>\n",
       "<table border=\"1\" class=\"dataframe\">\n",
       "  <thead>\n",
       "    <tr style=\"text-align: right;\">\n",
       "      <th></th>\n",
       "      <th></th>\n",
       "      <th>seq_length</th>\n",
       "      <th>seq_scored</th>\n",
       "      <th>SN_filter</th>\n",
       "      <th>signal_to_noise</th>\n",
       "      <th>unpaired_probability</th>\n",
       "      <th>sequence</th>\n",
       "      <th>structure</th>\n",
       "      <th>predicted_loop_type</th>\n",
       "      <th>reactivity</th>\n",
       "      <th>reactivity_error</th>\n",
       "      <th>deg_Mg_pH10</th>\n",
       "      <th>deg_error_Mg_pH10</th>\n",
       "      <th>deg_pH10</th>\n",
       "      <th>deg_error_pH10</th>\n",
       "      <th>deg_Mg_50C</th>\n",
       "      <th>deg_error_Mg_50C</th>\n",
       "      <th>deg_50C</th>\n",
       "      <th>deg_error_50C</th>\n",
       "    </tr>\n",
       "    <tr>\n",
       "      <th>id</th>\n",
       "      <th>step</th>\n",
       "      <th></th>\n",
       "      <th></th>\n",
       "      <th></th>\n",
       "      <th></th>\n",
       "      <th></th>\n",
       "      <th></th>\n",
       "      <th></th>\n",
       "      <th></th>\n",
       "      <th></th>\n",
       "      <th></th>\n",
       "      <th></th>\n",
       "      <th></th>\n",
       "      <th></th>\n",
       "      <th></th>\n",
       "      <th></th>\n",
       "      <th></th>\n",
       "      <th></th>\n",
       "      <th></th>\n",
       "    </tr>\n",
       "  </thead>\n",
       "  <tbody>\n",
       "    <tr>\n",
       "      <th rowspan=\"5\" valign=\"top\">id_001f94081</th>\n",
       "      <th>0</th>\n",
       "      <td>107</td>\n",
       "      <td>68</td>\n",
       "      <td>1.0</td>\n",
       "      <td>6.894</td>\n",
       "      <td>0.801458</td>\n",
       "      <td>G</td>\n",
       "      <td>.</td>\n",
       "      <td>E</td>\n",
       "      <td>0.3297</td>\n",
       "      <td>0.1359</td>\n",
       "      <td>0.7556</td>\n",
       "      <td>0.2613</td>\n",
       "      <td>2.3375</td>\n",
       "      <td>0.2631</td>\n",
       "      <td>0.3581</td>\n",
       "      <td>0.1501</td>\n",
       "      <td>0.6382</td>\n",
       "      <td>0.2167</td>\n",
       "    </tr>\n",
       "    <tr>\n",
       "      <th>1</th>\n",
       "      <td>107</td>\n",
       "      <td>68</td>\n",
       "      <td>1.0</td>\n",
       "      <td>6.894</td>\n",
       "      <td>0.816288</td>\n",
       "      <td>G</td>\n",
       "      <td>.</td>\n",
       "      <td>E</td>\n",
       "      <td>1.5693</td>\n",
       "      <td>0.2070</td>\n",
       "      <td>2.9830</td>\n",
       "      <td>0.3842</td>\n",
       "      <td>3.5060</td>\n",
       "      <td>0.2860</td>\n",
       "      <td>2.9683</td>\n",
       "      <td>0.2750</td>\n",
       "      <td>3.4773</td>\n",
       "      <td>0.3475</td>\n",
       "    </tr>\n",
       "    <tr>\n",
       "      <th>2</th>\n",
       "      <td>107</td>\n",
       "      <td>68</td>\n",
       "      <td>1.0</td>\n",
       "      <td>6.894</td>\n",
       "      <td>0.939998</td>\n",
       "      <td>A</td>\n",
       "      <td>.</td>\n",
       "      <td>E</td>\n",
       "      <td>1.1227</td>\n",
       "      <td>0.1633</td>\n",
       "      <td>0.2526</td>\n",
       "      <td>0.1372</td>\n",
       "      <td>0.3008</td>\n",
       "      <td>0.0964</td>\n",
       "      <td>0.2589</td>\n",
       "      <td>0.0947</td>\n",
       "      <td>0.9988</td>\n",
       "      <td>0.1880</td>\n",
       "    </tr>\n",
       "    <tr>\n",
       "      <th>3</th>\n",
       "      <td>107</td>\n",
       "      <td>68</td>\n",
       "      <td>1.0</td>\n",
       "      <td>6.894</td>\n",
       "      <td>0.986878</td>\n",
       "      <td>A</td>\n",
       "      <td>.</td>\n",
       "      <td>E</td>\n",
       "      <td>0.8686</td>\n",
       "      <td>0.1452</td>\n",
       "      <td>1.3789</td>\n",
       "      <td>0.2531</td>\n",
       "      <td>1.0108</td>\n",
       "      <td>0.1574</td>\n",
       "      <td>1.4552</td>\n",
       "      <td>0.1866</td>\n",
       "      <td>1.3228</td>\n",
       "      <td>0.2124</td>\n",
       "    </tr>\n",
       "    <tr>\n",
       "      <th>4</th>\n",
       "      <td>107</td>\n",
       "      <td>68</td>\n",
       "      <td>1.0</td>\n",
       "      <td>6.894</td>\n",
       "      <td>0.988720</td>\n",
       "      <td>A</td>\n",
       "      <td>.</td>\n",
       "      <td>E</td>\n",
       "      <td>0.7217</td>\n",
       "      <td>0.1314</td>\n",
       "      <td>0.6376</td>\n",
       "      <td>0.1798</td>\n",
       "      <td>0.2635</td>\n",
       "      <td>0.1000</td>\n",
       "      <td>0.7244</td>\n",
       "      <td>0.1369</td>\n",
       "      <td>0.7877</td>\n",
       "      <td>0.1703</td>\n",
       "    </tr>\n",
       "  </tbody>\n",
       "</table>\n",
       "</div>"
      ],
      "text/plain": [
       "                   seq_length  seq_scored  SN_filter  signal_to_noise  \\\n",
       "id           step                                                       \n",
       "id_001f94081 0            107          68        1.0            6.894   \n",
       "             1            107          68        1.0            6.894   \n",
       "             2            107          68        1.0            6.894   \n",
       "             3            107          68        1.0            6.894   \n",
       "             4            107          68        1.0            6.894   \n",
       "\n",
       "                   unpaired_probability sequence structure  \\\n",
       "id           step                                            \n",
       "id_001f94081 0                 0.801458        G         .   \n",
       "             1                 0.816288        G         .   \n",
       "             2                 0.939998        A         .   \n",
       "             3                 0.986878        A         .   \n",
       "             4                 0.988720        A         .   \n",
       "\n",
       "                  predicted_loop_type  reactivity  reactivity_error  \\\n",
       "id           step                                                     \n",
       "id_001f94081 0                      E      0.3297            0.1359   \n",
       "             1                      E      1.5693            0.2070   \n",
       "             2                      E      1.1227            0.1633   \n",
       "             3                      E      0.8686            0.1452   \n",
       "             4                      E      0.7217            0.1314   \n",
       "\n",
       "                   deg_Mg_pH10  deg_error_Mg_pH10  deg_pH10  deg_error_pH10  \\\n",
       "id           step                                                             \n",
       "id_001f94081 0          0.7556             0.2613    2.3375          0.2631   \n",
       "             1          2.9830             0.3842    3.5060          0.2860   \n",
       "             2          0.2526             0.1372    0.3008          0.0964   \n",
       "             3          1.3789             0.2531    1.0108          0.1574   \n",
       "             4          0.6376             0.1798    0.2635          0.1000   \n",
       "\n",
       "                   deg_Mg_50C  deg_error_Mg_50C  deg_50C  deg_error_50C  \n",
       "id           step                                                        \n",
       "id_001f94081 0         0.3581            0.1501   0.6382         0.2167  \n",
       "             1         2.9683            0.2750   3.4773         0.3475  \n",
       "             2         0.2589            0.0947   0.9988         0.1880  \n",
       "             3         1.4552            0.1866   1.3228         0.2124  \n",
       "             4         0.7244            0.1369   0.7877         0.1703  "
      ]
     },
     "execution_count": 22,
     "metadata": {},
     "output_type": "execute_result"
    }
   ],
   "source": [
    "test_train.head()"
   ]
  },
  {
   "cell_type": "code",
   "execution_count": 23,
   "metadata": {
    "execution": {
     "iopub.execute_input": "2020-09-17T11:01:45.836461Z",
     "iopub.status.busy": "2020-09-17T11:01:45.835705Z",
     "iopub.status.idle": "2020-09-17T11:01:46.321889Z",
     "shell.execute_reply": "2020-09-17T11:01:46.321179Z"
    },
    "papermill": {
     "duration": 0.524284,
     "end_time": "2020-09-17T11:01:46.322011",
     "exception": false,
     "start_time": "2020-09-17T11:01:45.797727",
     "status": "completed"
    },
    "tags": []
   },
   "outputs": [
    {
     "name": "stdout",
     "output_type": "stream",
     "text": [
      "seq_length               object\n",
      "seq_scored               object\n",
      "unpaired_probability    float64\n",
      "sequence                 object\n",
      "structure                object\n",
      "predicted_loop_type      object\n",
      "dtype: object\n",
      "seq_length                int64\n",
      "seq_scored                int64\n",
      "unpaired_probability    float64\n",
      "sequence                 object\n",
      "structure                object\n",
      "predicted_loop_type      object\n",
      "dtype: object\n"
     ]
    }
   ],
   "source": [
    "test_test = pd.read_csv('test.csv', index_col=[0,1])\n",
    "print(X_test.dtypes)\n",
    "print(test_test.dtypes)"
   ]
  },
  {
   "cell_type": "code",
   "execution_count": 24,
   "metadata": {
    "execution": {
     "iopub.execute_input": "2020-09-17T11:01:46.396179Z",
     "iopub.status.busy": "2020-09-17T11:01:46.395355Z",
     "iopub.status.idle": "2020-09-17T11:01:46.610059Z",
     "shell.execute_reply": "2020-09-17T11:01:46.609453Z"
    },
    "papermill": {
     "duration": 0.254866,
     "end_time": "2020-09-17T11:01:46.610174",
     "exception": false,
     "start_time": "2020-09-17T11:01:46.355308",
     "status": "completed"
    },
    "tags": []
   },
   "outputs": [
    {
     "name": "stdout",
     "output_type": "stream",
     "text": [
      "(457953, 6) (457953, 6) True\n"
     ]
    }
   ],
   "source": [
    "cols = ['sequence','structure','predicted_loop_type']\n",
    "print(X_test.shape, test_test.shape, test_test[cols].equals(X_test[cols]))"
   ]
  },
  {
   "cell_type": "code",
   "execution_count": 25,
   "metadata": {
    "execution": {
     "iopub.execute_input": "2020-09-17T11:01:46.695630Z",
     "iopub.status.busy": "2020-09-17T11:01:46.694968Z",
     "iopub.status.idle": "2020-09-17T11:01:46.699330Z",
     "shell.execute_reply": "2020-09-17T11:01:46.699821Z"
    },
    "papermill": {
     "duration": 0.054884,
     "end_time": "2020-09-17T11:01:46.699974",
     "exception": false,
     "start_time": "2020-09-17T11:01:46.645090",
     "status": "completed"
    },
    "tags": []
   },
   "outputs": [
    {
     "data": {
      "text/html": [
       "<div>\n",
       "<style scoped>\n",
       "    .dataframe tbody tr th:only-of-type {\n",
       "        vertical-align: middle;\n",
       "    }\n",
       "\n",
       "    .dataframe tbody tr th {\n",
       "        vertical-align: top;\n",
       "    }\n",
       "\n",
       "    .dataframe thead th {\n",
       "        text-align: right;\n",
       "    }\n",
       "</style>\n",
       "<table border=\"1\" class=\"dataframe\">\n",
       "  <thead>\n",
       "    <tr style=\"text-align: right;\">\n",
       "      <th></th>\n",
       "      <th></th>\n",
       "      <th>seq_length</th>\n",
       "      <th>seq_scored</th>\n",
       "      <th>unpaired_probability</th>\n",
       "      <th>sequence</th>\n",
       "      <th>structure</th>\n",
       "      <th>predicted_loop_type</th>\n",
       "    </tr>\n",
       "    <tr>\n",
       "      <th>id</th>\n",
       "      <th>step</th>\n",
       "      <th></th>\n",
       "      <th></th>\n",
       "      <th></th>\n",
       "      <th></th>\n",
       "      <th></th>\n",
       "      <th></th>\n",
       "    </tr>\n",
       "  </thead>\n",
       "  <tbody>\n",
       "    <tr>\n",
       "      <th rowspan=\"5\" valign=\"top\">id_00073f8be</th>\n",
       "      <th>0</th>\n",
       "      <td>107</td>\n",
       "      <td>68</td>\n",
       "      <td>0.962984</td>\n",
       "      <td>G</td>\n",
       "      <td>.</td>\n",
       "      <td>E</td>\n",
       "    </tr>\n",
       "    <tr>\n",
       "      <th>1</th>\n",
       "      <td>107</td>\n",
       "      <td>68</td>\n",
       "      <td>0.987545</td>\n",
       "      <td>G</td>\n",
       "      <td>.</td>\n",
       "      <td>E</td>\n",
       "    </tr>\n",
       "    <tr>\n",
       "      <th>2</th>\n",
       "      <td>107</td>\n",
       "      <td>68</td>\n",
       "      <td>0.997380</td>\n",
       "      <td>A</td>\n",
       "      <td>.</td>\n",
       "      <td>E</td>\n",
       "    </tr>\n",
       "    <tr>\n",
       "      <th>3</th>\n",
       "      <td>107</td>\n",
       "      <td>68</td>\n",
       "      <td>0.999286</td>\n",
       "      <td>A</td>\n",
       "      <td>.</td>\n",
       "      <td>E</td>\n",
       "    </tr>\n",
       "    <tr>\n",
       "      <th>4</th>\n",
       "      <td>107</td>\n",
       "      <td>68</td>\n",
       "      <td>0.995819</td>\n",
       "      <td>A</td>\n",
       "      <td>.</td>\n",
       "      <td>E</td>\n",
       "    </tr>\n",
       "  </tbody>\n",
       "</table>\n",
       "</div>"
      ],
      "text/plain": [
       "                  seq_length seq_scored  unpaired_probability sequence  \\\n",
       "id           step                                                        \n",
       "id_00073f8be 0           107         68              0.962984        G   \n",
       "             1           107         68              0.987545        G   \n",
       "             2           107         68              0.997380        A   \n",
       "             3           107         68              0.999286        A   \n",
       "             4           107         68              0.995819        A   \n",
       "\n",
       "                  structure predicted_loop_type  \n",
       "id           step                                \n",
       "id_00073f8be 0            .                   E  \n",
       "             1            .                   E  \n",
       "             2            .                   E  \n",
       "             3            .                   E  \n",
       "             4            .                   E  "
      ]
     },
     "execution_count": 25,
     "metadata": {},
     "output_type": "execute_result"
    }
   ],
   "source": [
    "X_test.head()"
   ]
  },
  {
   "cell_type": "code",
   "execution_count": 26,
   "metadata": {
    "execution": {
     "iopub.execute_input": "2020-09-17T11:01:46.786070Z",
     "iopub.status.busy": "2020-09-17T11:01:46.785349Z",
     "iopub.status.idle": "2020-09-17T11:01:46.791040Z",
     "shell.execute_reply": "2020-09-17T11:01:46.790379Z"
    },
    "papermill": {
     "duration": 0.056176,
     "end_time": "2020-09-17T11:01:46.791154",
     "exception": false,
     "start_time": "2020-09-17T11:01:46.734978",
     "status": "completed"
    },
    "tags": []
   },
   "outputs": [
    {
     "data": {
      "text/html": [
       "<div>\n",
       "<style scoped>\n",
       "    .dataframe tbody tr th:only-of-type {\n",
       "        vertical-align: middle;\n",
       "    }\n",
       "\n",
       "    .dataframe tbody tr th {\n",
       "        vertical-align: top;\n",
       "    }\n",
       "\n",
       "    .dataframe thead th {\n",
       "        text-align: right;\n",
       "    }\n",
       "</style>\n",
       "<table border=\"1\" class=\"dataframe\">\n",
       "  <thead>\n",
       "    <tr style=\"text-align: right;\">\n",
       "      <th></th>\n",
       "      <th></th>\n",
       "      <th>seq_length</th>\n",
       "      <th>seq_scored</th>\n",
       "      <th>unpaired_probability</th>\n",
       "      <th>sequence</th>\n",
       "      <th>structure</th>\n",
       "      <th>predicted_loop_type</th>\n",
       "    </tr>\n",
       "    <tr>\n",
       "      <th>id</th>\n",
       "      <th>step</th>\n",
       "      <th></th>\n",
       "      <th></th>\n",
       "      <th></th>\n",
       "      <th></th>\n",
       "      <th></th>\n",
       "      <th></th>\n",
       "    </tr>\n",
       "  </thead>\n",
       "  <tbody>\n",
       "    <tr>\n",
       "      <th rowspan=\"5\" valign=\"top\">id_00073f8be</th>\n",
       "      <th>0</th>\n",
       "      <td>107</td>\n",
       "      <td>68</td>\n",
       "      <td>0.962984</td>\n",
       "      <td>G</td>\n",
       "      <td>.</td>\n",
       "      <td>E</td>\n",
       "    </tr>\n",
       "    <tr>\n",
       "      <th>1</th>\n",
       "      <td>107</td>\n",
       "      <td>68</td>\n",
       "      <td>0.987545</td>\n",
       "      <td>G</td>\n",
       "      <td>.</td>\n",
       "      <td>E</td>\n",
       "    </tr>\n",
       "    <tr>\n",
       "      <th>2</th>\n",
       "      <td>107</td>\n",
       "      <td>68</td>\n",
       "      <td>0.997380</td>\n",
       "      <td>A</td>\n",
       "      <td>.</td>\n",
       "      <td>E</td>\n",
       "    </tr>\n",
       "    <tr>\n",
       "      <th>3</th>\n",
       "      <td>107</td>\n",
       "      <td>68</td>\n",
       "      <td>0.999286</td>\n",
       "      <td>A</td>\n",
       "      <td>.</td>\n",
       "      <td>E</td>\n",
       "    </tr>\n",
       "    <tr>\n",
       "      <th>4</th>\n",
       "      <td>107</td>\n",
       "      <td>68</td>\n",
       "      <td>0.995819</td>\n",
       "      <td>A</td>\n",
       "      <td>.</td>\n",
       "      <td>E</td>\n",
       "    </tr>\n",
       "  </tbody>\n",
       "</table>\n",
       "</div>"
      ],
      "text/plain": [
       "                   seq_length  seq_scored  unpaired_probability sequence  \\\n",
       "id           step                                                          \n",
       "id_00073f8be 0            107          68              0.962984        G   \n",
       "             1            107          68              0.987545        G   \n",
       "             2            107          68              0.997380        A   \n",
       "             3            107          68              0.999286        A   \n",
       "             4            107          68              0.995819        A   \n",
       "\n",
       "                  structure predicted_loop_type  \n",
       "id           step                                \n",
       "id_00073f8be 0            .                   E  \n",
       "             1            .                   E  \n",
       "             2            .                   E  \n",
       "             3            .                   E  \n",
       "             4            .                   E  "
      ]
     },
     "execution_count": 26,
     "metadata": {},
     "output_type": "execute_result"
    }
   ],
   "source": [
    "test_test.head()"
   ]
  },
  {
   "cell_type": "markdown",
   "metadata": {
    "papermill": {
     "duration": 0.03765,
     "end_time": "2020-09-17T11:01:46.863591",
     "exception": false,
     "start_time": "2020-09-17T11:01:46.825941",
     "status": "completed"
    },
    "tags": []
   },
   "source": [
    "# EOF"
   ]
  }
 ],
 "metadata": {
  "kernelspec": {
   "display_name": "Python 3",
   "language": "python",
   "name": "python3"
  },
  "language_info": {
   "codemirror_mode": {
    "name": "ipython",
    "version": 3
   },
   "file_extension": ".py",
   "mimetype": "text/x-python",
   "name": "python",
   "nbconvert_exporter": "python",
   "pygments_lexer": "ipython3",
   "version": "3.7.4"
  },
  "papermill": {
   "duration": 42.6148,
   "end_time": "2020-09-17T11:01:47.034148",
   "environment_variables": {},
   "exception": null,
   "input_path": "__notebook__.ipynb",
   "output_path": "__notebook__.ipynb",
   "parameters": {},
   "start_time": "2020-09-17T11:01:04.419348",
   "version": "2.1.0"
  }
 },
 "nbformat": 4,
 "nbformat_minor": 4
}
